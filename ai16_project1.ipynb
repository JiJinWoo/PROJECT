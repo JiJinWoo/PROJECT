{
 "cells": [
  {
   "cell_type": "markdown",
   "id": "a985ef6b",
   "metadata": {},
   "source": [
    "# 1. 데이터셋 불러오기"
   ]
  },
  {
   "cell_type": "code",
   "execution_count": 1,
   "id": "f8915aa5",
   "metadata": {},
   "outputs": [],
   "source": [
    "import pandas as pd\n",
    "import numpy as np\n",
    "import matplotlib.pyplot as plt\n",
    "import seaborn as sns"
   ]
  },
  {
   "cell_type": "code",
   "execution_count": 2,
   "id": "b5618a01",
   "metadata": {},
   "outputs": [
    {
     "data": {
      "text/html": [
       "<div>\n",
       "<style scoped>\n",
       "    .dataframe tbody tr th:only-of-type {\n",
       "        vertical-align: middle;\n",
       "    }\n",
       "\n",
       "    .dataframe tbody tr th {\n",
       "        vertical-align: top;\n",
       "    }\n",
       "\n",
       "    .dataframe thead th {\n",
       "        text-align: right;\n",
       "    }\n",
       "</style>\n",
       "<table border=\"1\" class=\"dataframe\">\n",
       "  <thead>\n",
       "    <tr style=\"text-align: right;\">\n",
       "      <th></th>\n",
       "      <th>Unnamed: 0</th>\n",
       "      <th>Name</th>\n",
       "      <th>Platform</th>\n",
       "      <th>Year</th>\n",
       "      <th>Genre</th>\n",
       "      <th>Publisher</th>\n",
       "      <th>NA_Sales</th>\n",
       "      <th>EU_Sales</th>\n",
       "      <th>JP_Sales</th>\n",
       "      <th>Other_Sales</th>\n",
       "    </tr>\n",
       "  </thead>\n",
       "  <tbody>\n",
       "    <tr>\n",
       "      <th>0</th>\n",
       "      <td>1</td>\n",
       "      <td>Candace Kane's Candy Factory</td>\n",
       "      <td>DS</td>\n",
       "      <td>2008.0</td>\n",
       "      <td>Action</td>\n",
       "      <td>Destineer</td>\n",
       "      <td>0.04</td>\n",
       "      <td>0</td>\n",
       "      <td>0</td>\n",
       "      <td>0</td>\n",
       "    </tr>\n",
       "    <tr>\n",
       "      <th>1</th>\n",
       "      <td>2</td>\n",
       "      <td>The Munchables</td>\n",
       "      <td>Wii</td>\n",
       "      <td>2009.0</td>\n",
       "      <td>Action</td>\n",
       "      <td>Namco Bandai Games</td>\n",
       "      <td>0.17</td>\n",
       "      <td>0</td>\n",
       "      <td>0</td>\n",
       "      <td>0.01</td>\n",
       "    </tr>\n",
       "    <tr>\n",
       "      <th>2</th>\n",
       "      <td>3</td>\n",
       "      <td>Otome wa Oanesama Boku ni Koi Shiteru Portable</td>\n",
       "      <td>PSP</td>\n",
       "      <td>2010.0</td>\n",
       "      <td>Adventure</td>\n",
       "      <td>Alchemist</td>\n",
       "      <td>0</td>\n",
       "      <td>0</td>\n",
       "      <td>0.02</td>\n",
       "      <td>0</td>\n",
       "    </tr>\n",
       "    <tr>\n",
       "      <th>3</th>\n",
       "      <td>4</td>\n",
       "      <td>Deal or No Deal: Special Edition</td>\n",
       "      <td>DS</td>\n",
       "      <td>2010.0</td>\n",
       "      <td>Misc</td>\n",
       "      <td>Zoo Games</td>\n",
       "      <td>0.04</td>\n",
       "      <td>0</td>\n",
       "      <td>0</td>\n",
       "      <td>0</td>\n",
       "    </tr>\n",
       "    <tr>\n",
       "      <th>4</th>\n",
       "      <td>5</td>\n",
       "      <td>Ben 10 Ultimate Alien: Cosmic Destruction</td>\n",
       "      <td>PS3</td>\n",
       "      <td>2010.0</td>\n",
       "      <td>Platform</td>\n",
       "      <td>D3Publisher</td>\n",
       "      <td>0.12</td>\n",
       "      <td>0.09</td>\n",
       "      <td>0</td>\n",
       "      <td>0.04</td>\n",
       "    </tr>\n",
       "  </tbody>\n",
       "</table>\n",
       "</div>"
      ],
      "text/plain": [
       "   Unnamed: 0                                            Name Platform  \\\n",
       "0           1                    Candace Kane's Candy Factory       DS   \n",
       "1           2                                  The Munchables      Wii   \n",
       "2           3  Otome wa Oanesama Boku ni Koi Shiteru Portable      PSP   \n",
       "3           4                Deal or No Deal: Special Edition       DS   \n",
       "4           5       Ben 10 Ultimate Alien: Cosmic Destruction      PS3   \n",
       "\n",
       "     Year      Genre           Publisher NA_Sales EU_Sales JP_Sales  \\\n",
       "0  2008.0     Action           Destineer     0.04        0        0   \n",
       "1  2009.0     Action  Namco Bandai Games     0.17        0        0   \n",
       "2  2010.0  Adventure           Alchemist        0        0     0.02   \n",
       "3  2010.0       Misc           Zoo Games     0.04        0        0   \n",
       "4  2010.0   Platform         D3Publisher     0.12     0.09        0   \n",
       "\n",
       "  Other_Sales  \n",
       "0           0  \n",
       "1        0.01  \n",
       "2           0  \n",
       "3           0  \n",
       "4        0.04  "
      ]
     },
     "execution_count": 2,
     "metadata": {},
     "output_type": "execute_result"
    }
   ],
   "source": [
    "df = pd.read_csv('vgames2.csv')\n",
    "df.head()"
   ]
  },
  {
   "cell_type": "markdown",
   "id": "120cd97f",
   "metadata": {},
   "source": [
    "> Row data는 최대한 건드리지 않는 것이 좋기 때문에 copy를 진행한 후 데이터셋을 처리하기로 합니다."
   ]
  },
  {
   "cell_type": "code",
   "execution_count": 3,
   "id": "9f1d15dc",
   "metadata": {},
   "outputs": [
    {
     "data": {
      "text/html": [
       "<div>\n",
       "<style scoped>\n",
       "    .dataframe tbody tr th:only-of-type {\n",
       "        vertical-align: middle;\n",
       "    }\n",
       "\n",
       "    .dataframe tbody tr th {\n",
       "        vertical-align: top;\n",
       "    }\n",
       "\n",
       "    .dataframe thead th {\n",
       "        text-align: right;\n",
       "    }\n",
       "</style>\n",
       "<table border=\"1\" class=\"dataframe\">\n",
       "  <thead>\n",
       "    <tr style=\"text-align: right;\">\n",
       "      <th></th>\n",
       "      <th>Unnamed: 0</th>\n",
       "      <th>Name</th>\n",
       "      <th>Platform</th>\n",
       "      <th>Year</th>\n",
       "      <th>Genre</th>\n",
       "      <th>Publisher</th>\n",
       "      <th>NA_Sales</th>\n",
       "      <th>EU_Sales</th>\n",
       "      <th>JP_Sales</th>\n",
       "      <th>Other_Sales</th>\n",
       "    </tr>\n",
       "  </thead>\n",
       "  <tbody>\n",
       "    <tr>\n",
       "      <th>0</th>\n",
       "      <td>1</td>\n",
       "      <td>Candace Kane's Candy Factory</td>\n",
       "      <td>DS</td>\n",
       "      <td>2008.0</td>\n",
       "      <td>Action</td>\n",
       "      <td>Destineer</td>\n",
       "      <td>0.04</td>\n",
       "      <td>0</td>\n",
       "      <td>0</td>\n",
       "      <td>0</td>\n",
       "    </tr>\n",
       "    <tr>\n",
       "      <th>1</th>\n",
       "      <td>2</td>\n",
       "      <td>The Munchables</td>\n",
       "      <td>Wii</td>\n",
       "      <td>2009.0</td>\n",
       "      <td>Action</td>\n",
       "      <td>Namco Bandai Games</td>\n",
       "      <td>0.17</td>\n",
       "      <td>0</td>\n",
       "      <td>0</td>\n",
       "      <td>0.01</td>\n",
       "    </tr>\n",
       "    <tr>\n",
       "      <th>2</th>\n",
       "      <td>3</td>\n",
       "      <td>Otome wa Oanesama Boku ni Koi Shiteru Portable</td>\n",
       "      <td>PSP</td>\n",
       "      <td>2010.0</td>\n",
       "      <td>Adventure</td>\n",
       "      <td>Alchemist</td>\n",
       "      <td>0</td>\n",
       "      <td>0</td>\n",
       "      <td>0.02</td>\n",
       "      <td>0</td>\n",
       "    </tr>\n",
       "    <tr>\n",
       "      <th>3</th>\n",
       "      <td>4</td>\n",
       "      <td>Deal or No Deal: Special Edition</td>\n",
       "      <td>DS</td>\n",
       "      <td>2010.0</td>\n",
       "      <td>Misc</td>\n",
       "      <td>Zoo Games</td>\n",
       "      <td>0.04</td>\n",
       "      <td>0</td>\n",
       "      <td>0</td>\n",
       "      <td>0</td>\n",
       "    </tr>\n",
       "    <tr>\n",
       "      <th>4</th>\n",
       "      <td>5</td>\n",
       "      <td>Ben 10 Ultimate Alien: Cosmic Destruction</td>\n",
       "      <td>PS3</td>\n",
       "      <td>2010.0</td>\n",
       "      <td>Platform</td>\n",
       "      <td>D3Publisher</td>\n",
       "      <td>0.12</td>\n",
       "      <td>0.09</td>\n",
       "      <td>0</td>\n",
       "      <td>0.04</td>\n",
       "    </tr>\n",
       "  </tbody>\n",
       "</table>\n",
       "</div>"
      ],
      "text/plain": [
       "   Unnamed: 0                                            Name Platform  \\\n",
       "0           1                    Candace Kane's Candy Factory       DS   \n",
       "1           2                                  The Munchables      Wii   \n",
       "2           3  Otome wa Oanesama Boku ni Koi Shiteru Portable      PSP   \n",
       "3           4                Deal or No Deal: Special Edition       DS   \n",
       "4           5       Ben 10 Ultimate Alien: Cosmic Destruction      PS3   \n",
       "\n",
       "     Year      Genre           Publisher NA_Sales EU_Sales JP_Sales  \\\n",
       "0  2008.0     Action           Destineer     0.04        0        0   \n",
       "1  2009.0     Action  Namco Bandai Games     0.17        0        0   \n",
       "2  2010.0  Adventure           Alchemist        0        0     0.02   \n",
       "3  2010.0       Misc           Zoo Games     0.04        0        0   \n",
       "4  2010.0   Platform         D3Publisher     0.12     0.09        0   \n",
       "\n",
       "  Other_Sales  \n",
       "0           0  \n",
       "1        0.01  \n",
       "2           0  \n",
       "3           0  \n",
       "4        0.04  "
      ]
     },
     "execution_count": 3,
     "metadata": {},
     "output_type": "execute_result"
    }
   ],
   "source": [
    "game = df.copy()\n",
    "game.head()"
   ]
  },
  {
   "cell_type": "markdown",
   "id": "00cc2025",
   "metadata": {},
   "source": [
    "# 2. EDA & Feature Engineering"
   ]
  },
  {
   "cell_type": "markdown",
   "id": "4ee4603b",
   "metadata": {},
   "source": [
    "> 시각적 탐색을 통해 'Unnamed: 0' 컬럼이 index와 중복되는 것을 확인할 수 있으므로 제거해줍니다."
   ]
  },
  {
   "cell_type": "code",
   "execution_count": 4,
   "id": "221c05bf",
   "metadata": {},
   "outputs": [
    {
     "data": {
      "text/html": [
       "<div>\n",
       "<style scoped>\n",
       "    .dataframe tbody tr th:only-of-type {\n",
       "        vertical-align: middle;\n",
       "    }\n",
       "\n",
       "    .dataframe tbody tr th {\n",
       "        vertical-align: top;\n",
       "    }\n",
       "\n",
       "    .dataframe thead th {\n",
       "        text-align: right;\n",
       "    }\n",
       "</style>\n",
       "<table border=\"1\" class=\"dataframe\">\n",
       "  <thead>\n",
       "    <tr style=\"text-align: right;\">\n",
       "      <th></th>\n",
       "      <th>Name</th>\n",
       "      <th>Platform</th>\n",
       "      <th>Year</th>\n",
       "      <th>Genre</th>\n",
       "      <th>Publisher</th>\n",
       "      <th>NA_Sales</th>\n",
       "      <th>EU_Sales</th>\n",
       "      <th>JP_Sales</th>\n",
       "      <th>Other_Sales</th>\n",
       "    </tr>\n",
       "  </thead>\n",
       "  <tbody>\n",
       "    <tr>\n",
       "      <th>0</th>\n",
       "      <td>Candace Kane's Candy Factory</td>\n",
       "      <td>DS</td>\n",
       "      <td>2008.0</td>\n",
       "      <td>Action</td>\n",
       "      <td>Destineer</td>\n",
       "      <td>0.04</td>\n",
       "      <td>0</td>\n",
       "      <td>0</td>\n",
       "      <td>0</td>\n",
       "    </tr>\n",
       "    <tr>\n",
       "      <th>1</th>\n",
       "      <td>The Munchables</td>\n",
       "      <td>Wii</td>\n",
       "      <td>2009.0</td>\n",
       "      <td>Action</td>\n",
       "      <td>Namco Bandai Games</td>\n",
       "      <td>0.17</td>\n",
       "      <td>0</td>\n",
       "      <td>0</td>\n",
       "      <td>0.01</td>\n",
       "    </tr>\n",
       "    <tr>\n",
       "      <th>2</th>\n",
       "      <td>Otome wa Oanesama Boku ni Koi Shiteru Portable</td>\n",
       "      <td>PSP</td>\n",
       "      <td>2010.0</td>\n",
       "      <td>Adventure</td>\n",
       "      <td>Alchemist</td>\n",
       "      <td>0</td>\n",
       "      <td>0</td>\n",
       "      <td>0.02</td>\n",
       "      <td>0</td>\n",
       "    </tr>\n",
       "    <tr>\n",
       "      <th>3</th>\n",
       "      <td>Deal or No Deal: Special Edition</td>\n",
       "      <td>DS</td>\n",
       "      <td>2010.0</td>\n",
       "      <td>Misc</td>\n",
       "      <td>Zoo Games</td>\n",
       "      <td>0.04</td>\n",
       "      <td>0</td>\n",
       "      <td>0</td>\n",
       "      <td>0</td>\n",
       "    </tr>\n",
       "    <tr>\n",
       "      <th>4</th>\n",
       "      <td>Ben 10 Ultimate Alien: Cosmic Destruction</td>\n",
       "      <td>PS3</td>\n",
       "      <td>2010.0</td>\n",
       "      <td>Platform</td>\n",
       "      <td>D3Publisher</td>\n",
       "      <td>0.12</td>\n",
       "      <td>0.09</td>\n",
       "      <td>0</td>\n",
       "      <td>0.04</td>\n",
       "    </tr>\n",
       "  </tbody>\n",
       "</table>\n",
       "</div>"
      ],
      "text/plain": [
       "                                             Name Platform    Year      Genre  \\\n",
       "0                    Candace Kane's Candy Factory       DS  2008.0     Action   \n",
       "1                                  The Munchables      Wii  2009.0     Action   \n",
       "2  Otome wa Oanesama Boku ni Koi Shiteru Portable      PSP  2010.0  Adventure   \n",
       "3                Deal or No Deal: Special Edition       DS  2010.0       Misc   \n",
       "4       Ben 10 Ultimate Alien: Cosmic Destruction      PS3  2010.0   Platform   \n",
       "\n",
       "            Publisher NA_Sales EU_Sales JP_Sales Other_Sales  \n",
       "0           Destineer     0.04        0        0           0  \n",
       "1  Namco Bandai Games     0.17        0        0        0.01  \n",
       "2           Alchemist        0        0     0.02           0  \n",
       "3           Zoo Games     0.04        0        0           0  \n",
       "4         D3Publisher     0.12     0.09        0        0.04  "
      ]
     },
     "execution_count": 4,
     "metadata": {},
     "output_type": "execute_result"
    }
   ],
   "source": [
    "game.drop('Unnamed: 0', axis=1, inplace=True)\n",
    "game.head()"
   ]
  },
  {
   "cell_type": "code",
   "execution_count": 5,
   "id": "5ac97705",
   "metadata": {},
   "outputs": [
    {
     "name": "stdout",
     "output_type": "stream",
     "text": [
      "<class 'pandas.core.frame.DataFrame'>\n",
      "RangeIndex: 16598 entries, 0 to 16597\n",
      "Data columns (total 9 columns):\n",
      " #   Column       Non-Null Count  Dtype  \n",
      "---  ------       --------------  -----  \n",
      " 0   Name         16598 non-null  object \n",
      " 1   Platform     16598 non-null  object \n",
      " 2   Year         16327 non-null  float64\n",
      " 3   Genre        16548 non-null  object \n",
      " 4   Publisher    16540 non-null  object \n",
      " 5   NA_Sales     16598 non-null  object \n",
      " 6   EU_Sales     16598 non-null  object \n",
      " 7   JP_Sales     16598 non-null  object \n",
      " 8   Other_Sales  16598 non-null  object \n",
      "dtypes: float64(1), object(8)\n",
      "memory usage: 1.1+ MB\n"
     ]
    }
   ],
   "source": [
    "game.info()"
   ]
  },
  {
   "cell_type": "markdown",
   "id": "7aaf05bd",
   "metadata": {},
   "source": [
    "> 시각적 탐색한 것과 더불어 info()를 통해 프로그래매틱 탐색으로 품질의 문제를 해결하고자 합니다.\n",
    "> - Year, Genre, Publisher 컬럼에 missing value가 있는 것을 확인할 수 있으므로 대체하거나 제거해줍니다.\n",
    "> - Year 컬럼이 연도로 확인되지만 float type인 것을 알 수 있으므로 int type으로 변경해줍니다.\n",
    "> - Sales 컬럼들이 연속적인 변수므로 object type이 아닌 적절한 type으로 변경해줍니다."
   ]
  },
  {
   "cell_type": "markdown",
   "id": "6dcdec36",
   "metadata": {},
   "source": [
    "## 2-1. 중복 데이터 확인 및 제거"
   ]
  },
  {
   "cell_type": "code",
   "execution_count": 6,
   "id": "567d9486",
   "metadata": {},
   "outputs": [
    {
     "data": {
      "text/html": [
       "<div>\n",
       "<style scoped>\n",
       "    .dataframe tbody tr th:only-of-type {\n",
       "        vertical-align: middle;\n",
       "    }\n",
       "\n",
       "    .dataframe tbody tr th {\n",
       "        vertical-align: top;\n",
       "    }\n",
       "\n",
       "    .dataframe thead th {\n",
       "        text-align: right;\n",
       "    }\n",
       "</style>\n",
       "<table border=\"1\" class=\"dataframe\">\n",
       "  <thead>\n",
       "    <tr style=\"text-align: right;\">\n",
       "      <th></th>\n",
       "      <th>Name</th>\n",
       "      <th>Platform</th>\n",
       "      <th>Year</th>\n",
       "      <th>Genre</th>\n",
       "      <th>Publisher</th>\n",
       "      <th>NA_Sales</th>\n",
       "      <th>EU_Sales</th>\n",
       "      <th>JP_Sales</th>\n",
       "      <th>Other_Sales</th>\n",
       "    </tr>\n",
       "  </thead>\n",
       "  <tbody>\n",
       "    <tr>\n",
       "      <th>8055</th>\n",
       "      <td>Wii de Asobu: Metroid Prime</td>\n",
       "      <td>Wii</td>\n",
       "      <td>NaN</td>\n",
       "      <td>Shooter</td>\n",
       "      <td>Nintendo</td>\n",
       "      <td>0</td>\n",
       "      <td>0</td>\n",
       "      <td>0.02</td>\n",
       "      <td>0</td>\n",
       "    </tr>\n",
       "    <tr>\n",
       "      <th>9184</th>\n",
       "      <td>Wii de Asobu: Metroid Prime</td>\n",
       "      <td>Wii</td>\n",
       "      <td>NaN</td>\n",
       "      <td>Shooter</td>\n",
       "      <td>Nintendo</td>\n",
       "      <td>0</td>\n",
       "      <td>0</td>\n",
       "      <td>0.02</td>\n",
       "      <td>0</td>\n",
       "    </tr>\n",
       "  </tbody>\n",
       "</table>\n",
       "</div>"
      ],
      "text/plain": [
       "                             Name Platform  Year    Genre Publisher NA_Sales  \\\n",
       "8055  Wii de Asobu: Metroid Prime      Wii   NaN  Shooter  Nintendo        0   \n",
       "9184  Wii de Asobu: Metroid Prime      Wii   NaN  Shooter  Nintendo        0   \n",
       "\n",
       "     EU_Sales JP_Sales Other_Sales  \n",
       "8055        0     0.02           0  \n",
       "9184        0     0.02           0  "
      ]
     },
     "execution_count": 6,
     "metadata": {},
     "output_type": "execute_result"
    }
   ],
   "source": [
    "# 중복된 데이터 확인 duplicated의 keep를 False로 설정해줘서 중복되는 데이터를 확인한다.\n",
    "game[game.duplicated(keep=False)]"
   ]
  },
  {
   "cell_type": "code",
   "execution_count": 7,
   "id": "db3ac005",
   "metadata": {},
   "outputs": [
    {
     "data": {
      "text/html": [
       "<div>\n",
       "<style scoped>\n",
       "    .dataframe tbody tr th:only-of-type {\n",
       "        vertical-align: middle;\n",
       "    }\n",
       "\n",
       "    .dataframe tbody tr th {\n",
       "        vertical-align: top;\n",
       "    }\n",
       "\n",
       "    .dataframe thead th {\n",
       "        text-align: right;\n",
       "    }\n",
       "</style>\n",
       "<table border=\"1\" class=\"dataframe\">\n",
       "  <thead>\n",
       "    <tr style=\"text-align: right;\">\n",
       "      <th></th>\n",
       "      <th>Name</th>\n",
       "      <th>Platform</th>\n",
       "      <th>Year</th>\n",
       "      <th>Genre</th>\n",
       "      <th>Publisher</th>\n",
       "      <th>NA_Sales</th>\n",
       "      <th>EU_Sales</th>\n",
       "      <th>JP_Sales</th>\n",
       "      <th>Other_Sales</th>\n",
       "    </tr>\n",
       "  </thead>\n",
       "  <tbody>\n",
       "  </tbody>\n",
       "</table>\n",
       "</div>"
      ],
      "text/plain": [
       "Empty DataFrame\n",
       "Columns: [Name, Platform, Year, Genre, Publisher, NA_Sales, EU_Sales, JP_Sales, Other_Sales]\n",
       "Index: []"
      ]
     },
     "execution_count": 7,
     "metadata": {},
     "output_type": "execute_result"
    }
   ],
   "source": [
    "# 중복된 데이터 제거\n",
    "game.drop_duplicates(inplace=True)\n",
    "\n",
    "# 인덱스 재정렬\n",
    "game = game.reset_index(drop=True)\n",
    "\n",
    "# 중복된 데이터가 제거되었는지 확인\n",
    "game[game.duplicated(keep=False)]"
   ]
  },
  {
   "cell_type": "markdown",
   "id": "f6273d5c",
   "metadata": {},
   "source": [
    "## 2-2. 결측치 처리"
   ]
  },
  {
   "cell_type": "code",
   "execution_count": 8,
   "id": "190dd87a",
   "metadata": {},
   "outputs": [
    {
     "data": {
      "text/plain": [
       "Name             0\n",
       "Platform         0\n",
       "Year           270\n",
       "Genre           50\n",
       "Publisher       58\n",
       "NA_Sales         0\n",
       "EU_Sales         0\n",
       "JP_Sales         0\n",
       "Other_Sales      0\n",
       "dtype: int64"
      ]
     },
     "execution_count": 8,
     "metadata": {},
     "output_type": "execute_result"
    }
   ],
   "source": [
    "# 결측치 확인\n",
    "game.isnull().sum()"
   ]
  },
  {
   "cell_type": "markdown",
   "id": "5932ee26",
   "metadata": {},
   "source": [
    "> 여러 결측치가 확인되었지만 이 결측치를 함부로 대체하는 것은 여러 문제를 야기할 수 있습니다.\n",
    "> - 결측치를 다 제거했을 경우 데이터의 손실과 함께 신뢰도가 낮아질 수 있습니다.\n",
    "> - 결측치를 잘못 대체했을 경우 데이터의 편향이 생길 수 있습니다.  \n",
    "> - 그렇기에 결측치에 해당하는 데이터들이 전체 데이터에 얼마나 영향을 주는지 알기 위해서 분석을 통해 결측치를 처리합니다."
   ]
  },
  {
   "cell_type": "code",
   "execution_count": 9,
   "id": "e59cb3f5",
   "metadata": {},
   "outputs": [
    {
     "data": {
      "text/plain": [
       "Name           0.000000\n",
       "Platform       0.000000\n",
       "Year           1.626800\n",
       "Genre          0.301259\n",
       "Publisher      0.349461\n",
       "NA_Sales       0.000000\n",
       "EU_Sales       0.000000\n",
       "JP_Sales       0.000000\n",
       "Other_Sales    0.000000\n",
       "dtype: float64"
      ]
     },
     "execution_count": 9,
     "metadata": {},
     "output_type": "execute_result"
    }
   ],
   "source": [
    "# 전체 데이터에 대한 각 컬럼의 결측치 비율\n",
    "(game.isnull().sum() / len(game)) * 100"
   ]
  },
  {
   "cell_type": "markdown",
   "id": "301ba3d0",
   "metadata": {},
   "source": [
    "#### Year\n",
    "> - Year 컬럼의 missing value(결측치)가 적은 비율이지만 알고자 하는 '연도별 게임의 트렌드'에 어느정도 영향이 있을 수도 있습니다.\n",
    "> - 하지만 이것을 평균이나 중위값으로 대체하는 것은 자료의 편향성을 가져다줄 수도 있고 특성들간의 상관관계를 왜곡할 수도 있기 때문에 완벽한 방법은 아니라 판단됩니다.\n",
    "> - 또한 다른 컬럼을 참고하여 연도를 예측하서 대체하는 것도 어려워보이기 때문에 다른 값으로 대체하지않고 제거합니다.\n",
    "#### Genre\n",
    "> - Genre 컬럼의 missing value는 알고자 하는 '지역에 따라서 선호하는 게임 장르'에 영향이 거의 없을 것으로 판단되어 바로 제거하도록 합니다.\n",
    "#### Publisher\n",
    "> - Publisher 컬럼는 value_counts()로 살펴봤을 때 너무 많은 종류가 있기 때문에 일단 missing value를 제거하지 않고 컬럼을 수정할 때 처리하도록 합니다."
   ]
  },
  {
   "cell_type": "code",
   "execution_count": 10,
   "id": "251a104b",
   "metadata": {},
   "outputs": [
    {
     "data": {
      "text/plain": [
       "Name            0\n",
       "Platform        0\n",
       "Year            0\n",
       "Genre           0\n",
       "Publisher      36\n",
       "NA_Sales        0\n",
       "EU_Sales        0\n",
       "JP_Sales        0\n",
       "Other_Sales     0\n",
       "dtype: int64"
      ]
     },
     "execution_count": 10,
     "metadata": {},
     "output_type": "execute_result"
    }
   ],
   "source": [
    "# Year & Genre 컬럼 결측치 제거\n",
    "game = game.dropna(subset=['Year', 'Genre'])\n",
    "\n",
    "# 인덱스 재정렬\n",
    "game = game.reset_index(drop=True)\n",
    "\n",
    "# 두 컬럼에 대해 결측치가 제거되었는지 확인\n",
    "game.isnull().sum()"
   ]
  },
  {
   "cell_type": "markdown",
   "id": "5e0e17b1",
   "metadata": {},
   "source": [
    "## 2-3. Year Column"
   ]
  },
  {
   "cell_type": "code",
   "execution_count": 11,
   "id": "c6b33389",
   "metadata": {},
   "outputs": [
    {
     "data": {
      "text/plain": [
       "2009.0    1418\n",
       "2008.0    1413\n",
       "2010.0    1248\n",
       "2007.0    1193\n",
       "2011.0    1126\n",
       "          ... \n",
       "13.0         2\n",
       "12.0         2\n",
       "86.0         1\n",
       "2020.0       1\n",
       "94.0         1\n",
       "Name: Year, Length: 62, dtype: int64"
      ]
     },
     "execution_count": 11,
     "metadata": {},
     "output_type": "execute_result"
    }
   ],
   "source": [
    "game.Year.value_counts()"
   ]
  },
  {
   "cell_type": "code",
   "execution_count": 12,
   "id": "508033ce",
   "metadata": {},
   "outputs": [
    {
     "data": {
      "image/png": "[encoded data removed]",
      "text/plain": [
       "<Figure size 1440x360 with 1 Axes>"
      ]
     },
     "metadata": {
      "needs_background": "light"
     },
     "output_type": "display_data"
    }
   ],
   "source": [
    "year_value_counts = game.Year.value_counts(dropna=False).sort_index()\n",
    "year_value_counts.plot(kind='bar', figsize=(20,5));"
   ]
  },
  {
   "cell_type": "markdown",
   "id": "27a69acd",
   "metadata": {},
   "source": [
    "> - 먼저 연도의 data type이 int type이 아닌 float type인 것을 확인했고 이를 올바른 type으로 바꿔줍니다."
   ]
  },
  {
   "cell_type": "code",
   "execution_count": 13,
   "id": "bbba7bcc",
   "metadata": {},
   "outputs": [],
   "source": [
    "# float -> int 변경\n",
    "game = game.astype({'Year' : 'int'})"
   ]
  },
  {
   "cell_type": "markdown",
   "id": "f8cf9ac7",
   "metadata": {},
   "source": [
    "> - value_counts()로 Year 컬럼을 살펴본 결과 연도가 아닌 숫자를 확인할 수 있습니다. \n",
    "> - 연도가 아닌 숫자의 Game name을 검색해보니 20 미만은 2000년도를 뜻하고 20 초과 100 미만는 1900년도인 것을 확인했습니다. \n",
    "> - 이 정보를 바탕으로 연도를 수정해줍니다."
   ]
  },
  {
   "cell_type": "code",
   "execution_count": 14,
   "id": "8ead5ec6",
   "metadata": {},
   "outputs": [],
   "source": [
    "# 함수를 통해 올바르지 않은 연도 수정\n",
    "def convert(year_value):\n",
    "    if year_value < 20:\n",
    "        year_value += 2000\n",
    "    elif (year_value > 20) & (year_value < 100):\n",
    "        year_value += 1900\n",
    "    return year_value"
   ]
  },
  {
   "cell_type": "code",
   "execution_count": 15,
   "id": "1cc262d5",
   "metadata": {},
   "outputs": [],
   "source": [
    "# Year 컬럼 함수 적용\n",
    "game.Year = game.Year.apply(convert)"
   ]
  },
  {
   "cell_type": "code",
   "execution_count": 16,
   "id": "1dc53237",
   "metadata": {},
   "outputs": [
    {
     "data": {
      "image/png": "[encoded data removed]",
      "text/plain": [
       "<Figure size 432x288 with 1 Axes>"
      ]
     },
     "metadata": {
      "needs_background": "light"
     },
     "output_type": "display_data"
    }
   ],
   "source": [
    "plt.hist(game.Year, bins=30);"
   ]
  },
  {
   "cell_type": "markdown",
   "id": "68a8c422",
   "metadata": {},
   "source": [
    "> - value_counts()와 histogram을 통해 알 수 있듯이 대부분의 게임이 1995년부터 2016년에 만들어진 것을 확인할 수 있습니다.\n",
    "> - 그렇기에 1995년부터 2016년에 만들어진 게임의 비율이 전체 데이터를 얼마나 차지하는지 확인하고 나머지 연도를 이상치라 간주하고 제거합니다."
   ]
  },
  {
   "cell_type": "code",
   "execution_count": 17,
   "id": "2c5237bd",
   "metadata": {},
   "outputs": [
    {
     "data": {
      "text/plain": [
       "0.9699576088959883"
      ]
     },
     "execution_count": 17,
     "metadata": {},
     "output_type": "execute_result"
    }
   ],
   "source": [
    "# 1995년부터 2016년까지 만들어진 게임의 비율\n",
    "outlier = game.query('(Year >= 1995) and (Year <= 2016)')\n",
    "len(outlier)/len(game)"
   ]
  },
  {
   "cell_type": "code",
   "execution_count": 18,
   "id": "13a3f86a",
   "metadata": {},
   "outputs": [],
   "source": [
    "# 이상치를 제거한 데이터프레임 저장 후 인덱스 재정렬\n",
    "game = outlier.reset_index(drop=True)"
   ]
  },
  {
   "cell_type": "markdown",
   "id": "d64d0496",
   "metadata": {},
   "source": [
    "## 2-4. Sales Column"
   ]
  },
  {
   "cell_type": "markdown",
   "id": "eb4773ea",
   "metadata": {},
   "source": [
    "> - Sales 컬럼은 인구수에 따른 출고량입니다.\n",
    "> - 프로그래매틱 탐색을 통해 알아본 결과 Country_Sales 컬럼이 object type인 것을 확인할 수 있었습니다.\n",
    "> - sample()로 몇가지 확인해본 결과 십의 자리수나 백의 자리수는 \"K\", 소수점은 \"M\" 문자가 하나씩 포함이 되어 있습니다.\n",
    "> - 이것은 인구수에 따른 출고량인 것으로 미루어보아 K = 1,000, M = 1,000,000 인 것으로 파악되어 M(Million)으로 치환해서 계산합니다."
   ]
  },
  {
   "cell_type": "code",
   "execution_count": 19,
   "id": "42f220cf",
   "metadata": {},
   "outputs": [],
   "source": [
    "# K와 M을 치환해줌과 동시에 map(pd.eval)을 이용해 사칙연산과 type 변경이 이루어집니다. \n",
    "game.NA_Sales = game.NA_Sales.replace({'K' : '*0.001', 'M' : ''}, regex=True).map(pd.eval)\n",
    "game.EU_Sales = game.EU_Sales.replace({'K' : '*0.001', 'M' : ''}, regex=True).map(pd.eval)\n",
    "game.JP_Sales = game.JP_Sales.replace({'K' : '*0.001', 'M' : ''}, regex=True).map(pd.eval)\n",
    "game.Other_Sales = game.Other_Sales.replace({'K' : '*0.001', 'M' : ''}, regex=True).map(pd.eval)"
   ]
  },
  {
   "cell_type": "code",
   "execution_count": 20,
   "id": "5b174379",
   "metadata": {},
   "outputs": [
    {
     "name": "stdout",
     "output_type": "stream",
     "text": [
      "<class 'pandas.core.frame.DataFrame'>\n",
      "RangeIndex: 15788 entries, 0 to 15787\n",
      "Data columns (total 9 columns):\n",
      " #   Column       Non-Null Count  Dtype  \n",
      "---  ------       --------------  -----  \n",
      " 0   Name         15788 non-null  object \n",
      " 1   Platform     15788 non-null  object \n",
      " 2   Year         15788 non-null  int64  \n",
      " 3   Genre        15788 non-null  object \n",
      " 4   Publisher    15752 non-null  object \n",
      " 5   NA_Sales     15788 non-null  float64\n",
      " 6   EU_Sales     15788 non-null  float64\n",
      " 7   JP_Sales     15788 non-null  float64\n",
      " 8   Other_Sales  15788 non-null  float64\n",
      "dtypes: float64(4), int64(1), object(4)\n",
      "memory usage: 1.1+ MB\n"
     ]
    }
   ],
   "source": [
    "# EDA가 잘 적용되었는지 확인\n",
    "game.info()"
   ]
  },
  {
   "cell_type": "markdown",
   "id": "9bd971e5",
   "metadata": {},
   "source": [
    "### 2-4-1. Sales Column Feature Engineering"
   ]
  },
  {
   "cell_type": "markdown",
   "id": "45352d31",
   "metadata": {},
   "source": [
    "> - '출고량이 높은 게임에 대한 분석 및 시각화 프로세스'를 처리하기 위해 모든 지역에 대한 Total_Sales가 필요하기 때문에 feature engineering을 진행해줍니다."
   ]
  },
  {
   "cell_type": "code",
   "execution_count": 21,
   "id": "9f2ee7e8",
   "metadata": {},
   "outputs": [
    {
     "data": {
      "text/html": [
       "<div>\n",
       "<style scoped>\n",
       "    .dataframe tbody tr th:only-of-type {\n",
       "        vertical-align: middle;\n",
       "    }\n",
       "\n",
       "    .dataframe tbody tr th {\n",
       "        vertical-align: top;\n",
       "    }\n",
       "\n",
       "    .dataframe thead th {\n",
       "        text-align: right;\n",
       "    }\n",
       "</style>\n",
       "<table border=\"1\" class=\"dataframe\">\n",
       "  <thead>\n",
       "    <tr style=\"text-align: right;\">\n",
       "      <th></th>\n",
       "      <th>Name</th>\n",
       "      <th>Platform</th>\n",
       "      <th>Year</th>\n",
       "      <th>Genre</th>\n",
       "      <th>Publisher</th>\n",
       "      <th>NA_Sales</th>\n",
       "      <th>EU_Sales</th>\n",
       "      <th>JP_Sales</th>\n",
       "      <th>Other_Sales</th>\n",
       "      <th>Total_Sales</th>\n",
       "    </tr>\n",
       "  </thead>\n",
       "  <tbody>\n",
       "    <tr>\n",
       "      <th>0</th>\n",
       "      <td>Candace Kane's Candy Factory</td>\n",
       "      <td>DS</td>\n",
       "      <td>2008</td>\n",
       "      <td>Action</td>\n",
       "      <td>Destineer</td>\n",
       "      <td>0.04</td>\n",
       "      <td>0.00</td>\n",
       "      <td>0.00</td>\n",
       "      <td>0.00</td>\n",
       "      <td>0.04</td>\n",
       "    </tr>\n",
       "    <tr>\n",
       "      <th>1</th>\n",
       "      <td>The Munchables</td>\n",
       "      <td>Wii</td>\n",
       "      <td>2009</td>\n",
       "      <td>Action</td>\n",
       "      <td>Namco Bandai Games</td>\n",
       "      <td>0.17</td>\n",
       "      <td>0.00</td>\n",
       "      <td>0.00</td>\n",
       "      <td>0.01</td>\n",
       "      <td>0.18</td>\n",
       "    </tr>\n",
       "    <tr>\n",
       "      <th>2</th>\n",
       "      <td>Otome wa Oanesama Boku ni Koi Shiteru Portable</td>\n",
       "      <td>PSP</td>\n",
       "      <td>2010</td>\n",
       "      <td>Adventure</td>\n",
       "      <td>Alchemist</td>\n",
       "      <td>0.00</td>\n",
       "      <td>0.00</td>\n",
       "      <td>0.02</td>\n",
       "      <td>0.00</td>\n",
       "      <td>0.02</td>\n",
       "    </tr>\n",
       "    <tr>\n",
       "      <th>3</th>\n",
       "      <td>Deal or No Deal: Special Edition</td>\n",
       "      <td>DS</td>\n",
       "      <td>2010</td>\n",
       "      <td>Misc</td>\n",
       "      <td>Zoo Games</td>\n",
       "      <td>0.04</td>\n",
       "      <td>0.00</td>\n",
       "      <td>0.00</td>\n",
       "      <td>0.00</td>\n",
       "      <td>0.04</td>\n",
       "    </tr>\n",
       "    <tr>\n",
       "      <th>4</th>\n",
       "      <td>Ben 10 Ultimate Alien: Cosmic Destruction</td>\n",
       "      <td>PS3</td>\n",
       "      <td>2010</td>\n",
       "      <td>Platform</td>\n",
       "      <td>D3Publisher</td>\n",
       "      <td>0.12</td>\n",
       "      <td>0.09</td>\n",
       "      <td>0.00</td>\n",
       "      <td>0.04</td>\n",
       "      <td>0.25</td>\n",
       "    </tr>\n",
       "    <tr>\n",
       "      <th>...</th>\n",
       "      <td>...</td>\n",
       "      <td>...</td>\n",
       "      <td>...</td>\n",
       "      <td>...</td>\n",
       "      <td>...</td>\n",
       "      <td>...</td>\n",
       "      <td>...</td>\n",
       "      <td>...</td>\n",
       "      <td>...</td>\n",
       "      <td>...</td>\n",
       "    </tr>\n",
       "    <tr>\n",
       "      <th>15783</th>\n",
       "      <td>Ice Age 2: The Meltdown</td>\n",
       "      <td>GC</td>\n",
       "      <td>2006</td>\n",
       "      <td>Platform</td>\n",
       "      <td>Vivendi Games</td>\n",
       "      <td>0.15</td>\n",
       "      <td>0.04</td>\n",
       "      <td>0.00</td>\n",
       "      <td>0.01</td>\n",
       "      <td>0.20</td>\n",
       "    </tr>\n",
       "    <tr>\n",
       "      <th>15784</th>\n",
       "      <td>Rainbow Islands: Revolution</td>\n",
       "      <td>PSP</td>\n",
       "      <td>2005</td>\n",
       "      <td>Action</td>\n",
       "      <td>Rising Star Games</td>\n",
       "      <td>0.01</td>\n",
       "      <td>0.00</td>\n",
       "      <td>0.00</td>\n",
       "      <td>0.00</td>\n",
       "      <td>0.01</td>\n",
       "    </tr>\n",
       "    <tr>\n",
       "      <th>15785</th>\n",
       "      <td>NBA 2K16</td>\n",
       "      <td>PS3</td>\n",
       "      <td>2015</td>\n",
       "      <td>Sports</td>\n",
       "      <td>Take-Two Interactive</td>\n",
       "      <td>0.44</td>\n",
       "      <td>0.19</td>\n",
       "      <td>0.03</td>\n",
       "      <td>0.13</td>\n",
       "      <td>0.79</td>\n",
       "    </tr>\n",
       "    <tr>\n",
       "      <th>15786</th>\n",
       "      <td>Toukiden: The Age of Demons</td>\n",
       "      <td>PSV</td>\n",
       "      <td>2013</td>\n",
       "      <td>Action</td>\n",
       "      <td>Tecmo Koei</td>\n",
       "      <td>0.05</td>\n",
       "      <td>0.05</td>\n",
       "      <td>0.25</td>\n",
       "      <td>0.03</td>\n",
       "      <td>0.38</td>\n",
       "    </tr>\n",
       "    <tr>\n",
       "      <th>15787</th>\n",
       "      <td>The King of Fighters '95</td>\n",
       "      <td>PS</td>\n",
       "      <td>1996</td>\n",
       "      <td>Fighting</td>\n",
       "      <td>Sony Computer Entertainment</td>\n",
       "      <td>0.00</td>\n",
       "      <td>0.00</td>\n",
       "      <td>0.16</td>\n",
       "      <td>0.01</td>\n",
       "      <td>0.17</td>\n",
       "    </tr>\n",
       "  </tbody>\n",
       "</table>\n",
       "<p>15788 rows × 10 columns</p>\n",
       "</div>"
      ],
      "text/plain": [
       "                                                 Name Platform  Year  \\\n",
       "0                        Candace Kane's Candy Factory       DS  2008   \n",
       "1                                      The Munchables      Wii  2009   \n",
       "2      Otome wa Oanesama Boku ni Koi Shiteru Portable      PSP  2010   \n",
       "3                    Deal or No Deal: Special Edition       DS  2010   \n",
       "4           Ben 10 Ultimate Alien: Cosmic Destruction      PS3  2010   \n",
       "...                                               ...      ...   ...   \n",
       "15783                         Ice Age 2: The Meltdown       GC  2006   \n",
       "15784                     Rainbow Islands: Revolution      PSP  2005   \n",
       "15785                                        NBA 2K16      PS3  2015   \n",
       "15786                     Toukiden: The Age of Demons      PSV  2013   \n",
       "15787                        The King of Fighters '95       PS  1996   \n",
       "\n",
       "           Genre                    Publisher  NA_Sales  EU_Sales  JP_Sales  \\\n",
       "0         Action                    Destineer      0.04      0.00      0.00   \n",
       "1         Action           Namco Bandai Games      0.17      0.00      0.00   \n",
       "2      Adventure                    Alchemist      0.00      0.00      0.02   \n",
       "3           Misc                    Zoo Games      0.04      0.00      0.00   \n",
       "4       Platform                  D3Publisher      0.12      0.09      0.00   \n",
       "...          ...                          ...       ...       ...       ...   \n",
       "15783   Platform                Vivendi Games      0.15      0.04      0.00   \n",
       "15784     Action            Rising Star Games      0.01      0.00      0.00   \n",
       "15785     Sports         Take-Two Interactive      0.44      0.19      0.03   \n",
       "15786     Action                   Tecmo Koei      0.05      0.05      0.25   \n",
       "15787   Fighting  Sony Computer Entertainment      0.00      0.00      0.16   \n",
       "\n",
       "       Other_Sales  Total_Sales  \n",
       "0             0.00         0.04  \n",
       "1             0.01         0.18  \n",
       "2             0.00         0.02  \n",
       "3             0.00         0.04  \n",
       "4             0.04         0.25  \n",
       "...            ...          ...  \n",
       "15783         0.01         0.20  \n",
       "15784         0.00         0.01  \n",
       "15785         0.13         0.79  \n",
       "15786         0.03         0.38  \n",
       "15787         0.01         0.17  \n",
       "\n",
       "[15788 rows x 10 columns]"
      ]
     },
     "execution_count": 21,
     "metadata": {},
     "output_type": "execute_result"
    }
   ],
   "source": [
    "game['Total_Sales'] = game.NA_Sales + game.EU_Sales + game.JP_Sales + game.Other_Sales\n",
    "game"
   ]
  },
  {
   "cell_type": "markdown",
   "id": "08149d38",
   "metadata": {},
   "source": [
    "#### EDA와 Feature Engineering을 마친 데이터셋"
   ]
  },
  {
   "cell_type": "code",
   "execution_count": 74,
   "id": "ecf6a7e0",
   "metadata": {},
   "outputs": [
    {
     "data": {
      "text/html": [
       "<div>\n",
       "<style scoped>\n",
       "    .dataframe tbody tr th:only-of-type {\n",
       "        vertical-align: middle;\n",
       "    }\n",
       "\n",
       "    .dataframe tbody tr th {\n",
       "        vertical-align: top;\n",
       "    }\n",
       "\n",
       "    .dataframe thead th {\n",
       "        text-align: right;\n",
       "    }\n",
       "</style>\n",
       "<table border=\"1\" class=\"dataframe\">\n",
       "  <thead>\n",
       "    <tr style=\"text-align: right;\">\n",
       "      <th></th>\n",
       "      <th>Name</th>\n",
       "      <th>Platform</th>\n",
       "      <th>Year</th>\n",
       "      <th>Genre</th>\n",
       "      <th>Publisher</th>\n",
       "      <th>NA_Sales</th>\n",
       "      <th>EU_Sales</th>\n",
       "      <th>JP_Sales</th>\n",
       "      <th>Other_Sales</th>\n",
       "      <th>Total_Sales</th>\n",
       "    </tr>\n",
       "  </thead>\n",
       "  <tbody>\n",
       "    <tr>\n",
       "      <th>0</th>\n",
       "      <td>Candace Kane's Candy Factory</td>\n",
       "      <td>DS</td>\n",
       "      <td>2008</td>\n",
       "      <td>Action</td>\n",
       "      <td>Destineer</td>\n",
       "      <td>0.04</td>\n",
       "      <td>0.00</td>\n",
       "      <td>0.00</td>\n",
       "      <td>0.00</td>\n",
       "      <td>0.04</td>\n",
       "    </tr>\n",
       "    <tr>\n",
       "      <th>1</th>\n",
       "      <td>The Munchables</td>\n",
       "      <td>Wii</td>\n",
       "      <td>2009</td>\n",
       "      <td>Action</td>\n",
       "      <td>Namco Bandai Games</td>\n",
       "      <td>0.17</td>\n",
       "      <td>0.00</td>\n",
       "      <td>0.00</td>\n",
       "      <td>0.01</td>\n",
       "      <td>0.18</td>\n",
       "    </tr>\n",
       "    <tr>\n",
       "      <th>2</th>\n",
       "      <td>Otome wa Oanesama Boku ni Koi Shiteru Portable</td>\n",
       "      <td>PSP</td>\n",
       "      <td>2010</td>\n",
       "      <td>Adventure</td>\n",
       "      <td>Alchemist</td>\n",
       "      <td>0.00</td>\n",
       "      <td>0.00</td>\n",
       "      <td>0.02</td>\n",
       "      <td>0.00</td>\n",
       "      <td>0.02</td>\n",
       "    </tr>\n",
       "    <tr>\n",
       "      <th>3</th>\n",
       "      <td>Deal or No Deal: Special Edition</td>\n",
       "      <td>DS</td>\n",
       "      <td>2010</td>\n",
       "      <td>Misc</td>\n",
       "      <td>Zoo Games</td>\n",
       "      <td>0.04</td>\n",
       "      <td>0.00</td>\n",
       "      <td>0.00</td>\n",
       "      <td>0.00</td>\n",
       "      <td>0.04</td>\n",
       "    </tr>\n",
       "    <tr>\n",
       "      <th>4</th>\n",
       "      <td>Ben 10 Ultimate Alien: Cosmic Destruction</td>\n",
       "      <td>PS3</td>\n",
       "      <td>2010</td>\n",
       "      <td>Platform</td>\n",
       "      <td>D3Publisher</td>\n",
       "      <td>0.12</td>\n",
       "      <td>0.09</td>\n",
       "      <td>0.00</td>\n",
       "      <td>0.04</td>\n",
       "      <td>0.25</td>\n",
       "    </tr>\n",
       "    <tr>\n",
       "      <th>...</th>\n",
       "      <td>...</td>\n",
       "      <td>...</td>\n",
       "      <td>...</td>\n",
       "      <td>...</td>\n",
       "      <td>...</td>\n",
       "      <td>...</td>\n",
       "      <td>...</td>\n",
       "      <td>...</td>\n",
       "      <td>...</td>\n",
       "      <td>...</td>\n",
       "    </tr>\n",
       "    <tr>\n",
       "      <th>15783</th>\n",
       "      <td>Ice Age 2: The Meltdown</td>\n",
       "      <td>GC</td>\n",
       "      <td>2006</td>\n",
       "      <td>Platform</td>\n",
       "      <td>Vivendi Games</td>\n",
       "      <td>0.15</td>\n",
       "      <td>0.04</td>\n",
       "      <td>0.00</td>\n",
       "      <td>0.01</td>\n",
       "      <td>0.20</td>\n",
       "    </tr>\n",
       "    <tr>\n",
       "      <th>15784</th>\n",
       "      <td>Rainbow Islands: Revolution</td>\n",
       "      <td>PSP</td>\n",
       "      <td>2005</td>\n",
       "      <td>Action</td>\n",
       "      <td>Rising Star Games</td>\n",
       "      <td>0.01</td>\n",
       "      <td>0.00</td>\n",
       "      <td>0.00</td>\n",
       "      <td>0.00</td>\n",
       "      <td>0.01</td>\n",
       "    </tr>\n",
       "    <tr>\n",
       "      <th>15785</th>\n",
       "      <td>NBA 2K16</td>\n",
       "      <td>PS3</td>\n",
       "      <td>2015</td>\n",
       "      <td>Sports</td>\n",
       "      <td>Take-Two Interactive</td>\n",
       "      <td>0.44</td>\n",
       "      <td>0.19</td>\n",
       "      <td>0.03</td>\n",
       "      <td>0.13</td>\n",
       "      <td>0.79</td>\n",
       "    </tr>\n",
       "    <tr>\n",
       "      <th>15786</th>\n",
       "      <td>Toukiden: The Age of Demons</td>\n",
       "      <td>PSV</td>\n",
       "      <td>2013</td>\n",
       "      <td>Action</td>\n",
       "      <td>Tecmo Koei</td>\n",
       "      <td>0.05</td>\n",
       "      <td>0.05</td>\n",
       "      <td>0.25</td>\n",
       "      <td>0.03</td>\n",
       "      <td>0.38</td>\n",
       "    </tr>\n",
       "    <tr>\n",
       "      <th>15787</th>\n",
       "      <td>The King of Fighters '95</td>\n",
       "      <td>PS</td>\n",
       "      <td>1996</td>\n",
       "      <td>Fighting</td>\n",
       "      <td>Sony Computer Entertainment</td>\n",
       "      <td>0.00</td>\n",
       "      <td>0.00</td>\n",
       "      <td>0.16</td>\n",
       "      <td>0.01</td>\n",
       "      <td>0.17</td>\n",
       "    </tr>\n",
       "  </tbody>\n",
       "</table>\n",
       "<p>15788 rows × 10 columns</p>\n",
       "</div>"
      ],
      "text/plain": [
       "                                                 Name Platform  Year  \\\n",
       "0                        Candace Kane's Candy Factory       DS  2008   \n",
       "1                                      The Munchables      Wii  2009   \n",
       "2      Otome wa Oanesama Boku ni Koi Shiteru Portable      PSP  2010   \n",
       "3                    Deal or No Deal: Special Edition       DS  2010   \n",
       "4           Ben 10 Ultimate Alien: Cosmic Destruction      PS3  2010   \n",
       "...                                               ...      ...   ...   \n",
       "15783                         Ice Age 2: The Meltdown       GC  2006   \n",
       "15784                     Rainbow Islands: Revolution      PSP  2005   \n",
       "15785                                        NBA 2K16      PS3  2015   \n",
       "15786                     Toukiden: The Age of Demons      PSV  2013   \n",
       "15787                        The King of Fighters '95       PS  1996   \n",
       "\n",
       "           Genre                    Publisher  NA_Sales  EU_Sales  JP_Sales  \\\n",
       "0         Action                    Destineer      0.04      0.00      0.00   \n",
       "1         Action           Namco Bandai Games      0.17      0.00      0.00   \n",
       "2      Adventure                    Alchemist      0.00      0.00      0.02   \n",
       "3           Misc                    Zoo Games      0.04      0.00      0.00   \n",
       "4       Platform                  D3Publisher      0.12      0.09      0.00   \n",
       "...          ...                          ...       ...       ...       ...   \n",
       "15783   Platform                Vivendi Games      0.15      0.04      0.00   \n",
       "15784     Action            Rising Star Games      0.01      0.00      0.00   \n",
       "15785     Sports         Take-Two Interactive      0.44      0.19      0.03   \n",
       "15786     Action                   Tecmo Koei      0.05      0.05      0.25   \n",
       "15787   Fighting  Sony Computer Entertainment      0.00      0.00      0.16   \n",
       "\n",
       "       Other_Sales  Total_Sales  \n",
       "0             0.00         0.04  \n",
       "1             0.01         0.18  \n",
       "2             0.00         0.02  \n",
       "3             0.00         0.04  \n",
       "4             0.04         0.25  \n",
       "...            ...          ...  \n",
       "15783         0.01         0.20  \n",
       "15784         0.00         0.01  \n",
       "15785         0.13         0.79  \n",
       "15786         0.03         0.38  \n",
       "15787         0.01         0.17  \n",
       "\n",
       "[15788 rows x 10 columns]"
      ]
     },
     "execution_count": 74,
     "metadata": {},
     "output_type": "execute_result"
    }
   ],
   "source": [
    "game"
   ]
  },
  {
   "cell_type": "markdown",
   "id": "2df98f7a",
   "metadata": {},
   "source": [
    "# 3. 지역에 따라서 선호하는 게임 장르(시각화)"
   ]
  },
  {
   "cell_type": "markdown",
   "id": "6a80323a",
   "metadata": {},
   "source": [
    "> 지역에 따라서 선호하는 게임 장르가 다를까?\n",
    "\n",
    "> - 각 지역에 따른 선호하는 게임 장르를 파악하고 전체 선호 게임 장르를 파악합니다.\n",
    "> - 지역에 따라서 선호하는 게임 장르가 왜 다른가를 조사합니다.\n",
    "> - 아마 플랫폼이 만들어진 곳에 대한 것이거나 자회사가 그 지역에 있거나 일수도 있을 것 같습니다."
   ]
  },
  {
   "cell_type": "code",
   "execution_count": 48,
   "id": "265bdecd",
   "metadata": {},
   "outputs": [
    {
     "data": {
      "image/png": "[encoded data removed]",
      "text/plain": [
       "<Figure size 1800x864 with 4 Axes>"
      ]
     },
     "metadata": {},
     "output_type": "display_data"
    }
   ],
   "source": [
    "fig, ax = plt.subplots(ncols=2, nrows=2, figsize=(25,12))\n",
    "fig.suptitle('Sales by Genre', fontsize=25)\n",
    "\n",
    "sns.set_theme(style='whitegrid')\n",
    "\n",
    "# Genre에 따른 NA_Sales\n",
    "na_sales_by_genre = game.groupby(['Genre']).sum().sort_values(by='NA_Sales', ascending=False).reset_index()\n",
    "na_genre = sns.barplot(x='Genre', y='NA_Sales', data=na_sales_by_genre, errwidth=0, ax=ax[0,0])\n",
    "na_genre.set_title('NA_Sales by Genre', fontsize=20)\n",
    "na_genre.set_xlabel('')\n",
    "na_genre.set_ylabel('NA_Sales(Million)', fontsize=15);\n",
    "\n",
    "\n",
    "# Genre에 따른 EU_sales\n",
    "eu_sales_by_genre = game.groupby(['Genre']).sum().sort_values(by='EU_Sales', ascending=False).reset_index()\n",
    "eu_genre = sns.barplot(x='Genre', y='EU_Sales', data=eu_sales_by_genre, errwidth=0, ax=ax[0,1])\n",
    "eu_genre.set_title('EU_Sales by Genre', fontsize=20)\n",
    "eu_genre.set_xlabel('')\n",
    "eu_genre.set_ylabel('EU_Sales(Million)', fontsize=15);\n",
    "\n",
    "\n",
    "# Genre에 따른 JP_Saels\n",
    "jp_sales_by_genre = game.groupby(['Genre']).sum().sort_values(by='JP_Sales', ascending=False).reset_index()\n",
    "jp_genre = sns.barplot(x='Genre', y='JP_Sales', data=jp_sales_by_genre, errwidth=0, ax=ax[1,0])\n",
    "jp_genre.set_title('JP_Sales by Genre', fontsize=20)\n",
    "jp_genre.set_xlabel('')\n",
    "jp_genre.set_ylabel('JP_Sales(Million)', fontsize=15);\n",
    "\n",
    "\n",
    "# Genre에 따른 Other_Sales\n",
    "other_sales_by_genre = game.groupby(['Genre']).sum().sort_values(by='Other_Sales', ascending=False).reset_index()\n",
    "other_genre = sns.barplot(x='Genre', y='Other_Sales', data=other_sales_by_genre, errwidth=0, ax=ax[1,1])\n",
    "other_genre.set_title('Other_Sales by Genre', fontsize=20)\n",
    "other_genre.set_xlabel('')\n",
    "other_genre.set_ylabel('Other_Sales(Million)', fontsize=15);"
   ]
  },
  {
   "cell_type": "markdown",
   "id": "740fd814",
   "metadata": {},
   "source": [
    "## Total_Sales"
   ]
  },
  {
   "cell_type": "code",
   "execution_count": 23,
   "id": "d5999912",
   "metadata": {},
   "outputs": [
    {
     "data": {
      "image/png": "[encoded data removed]",
      "text/plain": [
       "<Figure size 864x360 with 1 Axes>"
      ]
     },
     "metadata": {},
     "output_type": "display_data"
    }
   ],
   "source": [
    "# Genre에 따른 Total_Sales\n",
    "total_sales_by_genre = game.groupby(['Genre']).sum().sort_values(by='Total_Sales', ascending=False).reset_index()\n",
    "\n",
    "\n",
    "plt.figure(figsize=(12,5))\n",
    "total_genre = sns.barplot(x='Genre', y='Total_Sales', data=total_sales_by_genre, errwidth=0)\n",
    "total_genre.set_title('Total_Sales by Genre', fontsize=20)\n",
    "total_genre.set_xlabel('Genre', fontsize=15)\n",
    "total_genre.set_ylabel('Total_Sales(Million)', fontsize=15);"
   ]
  },
  {
   "cell_type": "markdown",
   "id": "d3b7be3b",
   "metadata": {},
   "source": [
    "> 총 출고량을 따져보았을 때 north america를 공략하는 것이 합당하다고 생각합니다.\n",
    "> 1. 다른 지역보다 인구수가 많기 때문에 많은 출고량을 자랑합니다.\n",
    "> 2. 일본에서 가장 선호하는 장르를 제외한 다른 지역과 선호하는 장르가 비슷합니다. \n",
    "> - north america를 공략한다는 것이 합당한 사실인지 확인해보도록 합니다."
   ]
  },
  {
   "cell_type": "code",
   "execution_count": 42,
   "id": "c5c278f5",
   "metadata": {},
   "outputs": [
    {
     "data": {
      "image/png": "[encoded data removed]",
      "text/plain": [
       "<Figure size 864x360 with 1 Axes>"
      ]
     },
     "metadata": {},
     "output_type": "display_data"
    }
   ],
   "source": [
    "# 각 게임 장르가 몇 개나 있는지 확인\n",
    "game.Genre.value_counts().plot(kind='bar', figsize=(12,5));"
   ]
  },
  {
   "cell_type": "markdown",
   "id": "e70fb9c2",
   "metadata": {},
   "source": [
    "> genre value_counts로 살펴본 결과 높은 출고량을 보이는 장르가 많이 만들어졌다는 사실을 알 수 있습니다."
   ]
  },
  {
   "cell_type": "markdown",
   "id": "738bc81a",
   "metadata": {},
   "source": [
    "# 4. 연도별 게임의 트랜드(시각화)"
   ]
  },
  {
   "cell_type": "markdown",
   "id": "418b308e",
   "metadata": {},
   "source": [
    "> 연도별 게임의 트렌드는 여러 방향으로 분석이 가능합니다.\n",
    "> 1. 연도별 가장 많은 출고량을 보이는 게임 장르\n",
    "> 2. 연도별 가장 많은 출고량을 보이는 게임 플랫폼\n",
    "> 3. 연도별 가장 많은 출고량을 보이는 게임 회사"
   ]
  },
  {
   "cell_type": "markdown",
   "id": "359e6bd9",
   "metadata": {},
   "source": [
    "## 4-1. 연도별 가장 많은 출고량을 보이는 game genre"
   ]
  },
  {
   "cell_type": "code",
   "execution_count": 25,
   "id": "c83c9f04",
   "metadata": {
    "scrolled": false
   },
   "outputs": [
    {
     "data": {
      "text/html": [
       "<div>\n",
       "<style scoped>\n",
       "    .dataframe tbody tr th:only-of-type {\n",
       "        vertical-align: middle;\n",
       "    }\n",
       "\n",
       "    .dataframe tbody tr th {\n",
       "        vertical-align: top;\n",
       "    }\n",
       "\n",
       "    .dataframe thead th {\n",
       "        text-align: right;\n",
       "    }\n",
       "</style>\n",
       "<table border=\"1\" class=\"dataframe\">\n",
       "  <thead>\n",
       "    <tr style=\"text-align: right;\">\n",
       "      <th></th>\n",
       "      <th>Year</th>\n",
       "      <th>Genre</th>\n",
       "      <th>Total_Sales</th>\n",
       "    </tr>\n",
       "  </thead>\n",
       "  <tbody>\n",
       "    <tr>\n",
       "      <th>0</th>\n",
       "      <td>1995</td>\n",
       "      <td>Platform</td>\n",
       "      <td>16.69</td>\n",
       "    </tr>\n",
       "    <tr>\n",
       "      <th>1</th>\n",
       "      <td>1996</td>\n",
       "      <td>Role-Playing</td>\n",
       "      <td>43.99</td>\n",
       "    </tr>\n",
       "    <tr>\n",
       "      <th>2</th>\n",
       "      <td>1997</td>\n",
       "      <td>Racing</td>\n",
       "      <td>31.92</td>\n",
       "    </tr>\n",
       "    <tr>\n",
       "      <th>3</th>\n",
       "      <td>1998</td>\n",
       "      <td>Sports</td>\n",
       "      <td>41.75</td>\n",
       "    </tr>\n",
       "    <tr>\n",
       "      <th>4</th>\n",
       "      <td>1999</td>\n",
       "      <td>Role-Playing</td>\n",
       "      <td>47.24</td>\n",
       "    </tr>\n",
       "    <tr>\n",
       "      <th>5</th>\n",
       "      <td>2000</td>\n",
       "      <td>Sports</td>\n",
       "      <td>41.24</td>\n",
       "    </tr>\n",
       "    <tr>\n",
       "      <th>6</th>\n",
       "      <td>2001</td>\n",
       "      <td>Action</td>\n",
       "      <td>56.68</td>\n",
       "    </tr>\n",
       "    <tr>\n",
       "      <th>7</th>\n",
       "      <td>2002</td>\n",
       "      <td>Action</td>\n",
       "      <td>86.65</td>\n",
       "    </tr>\n",
       "    <tr>\n",
       "      <th>8</th>\n",
       "      <td>2003</td>\n",
       "      <td>Action</td>\n",
       "      <td>67.98</td>\n",
       "    </tr>\n",
       "    <tr>\n",
       "      <th>9</th>\n",
       "      <td>2004</td>\n",
       "      <td>Action</td>\n",
       "      <td>76.15</td>\n",
       "    </tr>\n",
       "    <tr>\n",
       "      <th>10</th>\n",
       "      <td>2005</td>\n",
       "      <td>Action</td>\n",
       "      <td>85.52</td>\n",
       "    </tr>\n",
       "    <tr>\n",
       "      <th>11</th>\n",
       "      <td>2006</td>\n",
       "      <td>Sports</td>\n",
       "      <td>136.12</td>\n",
       "    </tr>\n",
       "    <tr>\n",
       "      <th>12</th>\n",
       "      <td>2007</td>\n",
       "      <td>Action</td>\n",
       "      <td>105.99</td>\n",
       "    </tr>\n",
       "    <tr>\n",
       "      <th>13</th>\n",
       "      <td>2008</td>\n",
       "      <td>Action</td>\n",
       "      <td>135.46</td>\n",
       "    </tr>\n",
       "    <tr>\n",
       "      <th>14</th>\n",
       "      <td>2009</td>\n",
       "      <td>Sports</td>\n",
       "      <td>138.59</td>\n",
       "    </tr>\n",
       "    <tr>\n",
       "      <th>15</th>\n",
       "      <td>2010</td>\n",
       "      <td>Action</td>\n",
       "      <td>117.50</td>\n",
       "    </tr>\n",
       "    <tr>\n",
       "      <th>16</th>\n",
       "      <td>2011</td>\n",
       "      <td>Action</td>\n",
       "      <td>119.00</td>\n",
       "    </tr>\n",
       "    <tr>\n",
       "      <th>17</th>\n",
       "      <td>2012</td>\n",
       "      <td>Action</td>\n",
       "      <td>120.81</td>\n",
       "    </tr>\n",
       "    <tr>\n",
       "      <th>18</th>\n",
       "      <td>2013</td>\n",
       "      <td>Action</td>\n",
       "      <td>125.21</td>\n",
       "    </tr>\n",
       "    <tr>\n",
       "      <th>19</th>\n",
       "      <td>2014</td>\n",
       "      <td>Action</td>\n",
       "      <td>99.01</td>\n",
       "    </tr>\n",
       "    <tr>\n",
       "      <th>20</th>\n",
       "      <td>2015</td>\n",
       "      <td>Action</td>\n",
       "      <td>68.25</td>\n",
       "    </tr>\n",
       "    <tr>\n",
       "      <th>21</th>\n",
       "      <td>2016</td>\n",
       "      <td>Action</td>\n",
       "      <td>19.85</td>\n",
       "    </tr>\n",
       "  </tbody>\n",
       "</table>\n",
       "</div>"
      ],
      "text/plain": [
       "    Year         Genre  Total_Sales\n",
       "0   1995      Platform        16.69\n",
       "1   1996  Role-Playing        43.99\n",
       "2   1997        Racing        31.92\n",
       "3   1998        Sports        41.75\n",
       "4   1999  Role-Playing        47.24\n",
       "5   2000        Sports        41.24\n",
       "6   2001        Action        56.68\n",
       "7   2002        Action        86.65\n",
       "8   2003        Action        67.98\n",
       "9   2004        Action        76.15\n",
       "10  2005        Action        85.52\n",
       "11  2006        Sports       136.12\n",
       "12  2007        Action       105.99\n",
       "13  2008        Action       135.46\n",
       "14  2009        Sports       138.59\n",
       "15  2010        Action       117.50\n",
       "16  2011        Action       119.00\n",
       "17  2012        Action       120.81\n",
       "18  2013        Action       125.21\n",
       "19  2014        Action        99.01\n",
       "20  2015        Action        68.25\n",
       "21  2016        Action        19.85"
      ]
     },
     "execution_count": 25,
     "metadata": {},
     "output_type": "execute_result"
    }
   ],
   "source": [
    "year_list, genre_list, sales_list = [], [], []\n",
    "\n",
    "for year in range(1995, 2017):\n",
    "    year_genre=game[game.Year == year].groupby(['Year', 'Genre']).sum().sort_values(by='Total_Sales', ascending=False).reset_index()\n",
    "    year_list.append(year_genre.Year.iloc[0])\n",
    "    genre_list.append(year_genre.Genre.iloc[0])\n",
    "    sales_list.append(year_genre.Total_Sales.iloc[0])\n",
    "\n",
    "year_genre_dct = {'Year' : year_list,\n",
    "                  'Genre' : genre_list,\n",
    "                  'Total_Sales' : sales_list}\n",
    "year_best_genre = pd.DataFrame(year_genre_dct)\n",
    "year_best_genre"
   ]
  },
  {
   "cell_type": "code",
   "execution_count": 26,
   "id": "a0ba2cca",
   "metadata": {},
   "outputs": [
    {
     "data": {
      "image/png": "[encoded data removed]",
      "text/plain": [
       "<Figure size 1080x504 with 1 Axes>"
      ]
     },
     "metadata": {},
     "output_type": "display_data"
    }
   ],
   "source": [
    "plt.figure(figsize=(15,7))\n",
    "best_genre = sns.barplot(x='Year', y='Total_Sales', data=year_best_genre, hue='Genre', errwidth=0)\n",
    "best_genre.set_title('Best Game Genre', fontsize=20)\n",
    "best_genre.set_xlabel('Year', fontsize=15)\n",
    "best_genre.set_ylabel('Total_Sales(Million)', fontsize=15);"
   ]
  },
  {
   "cell_type": "markdown",
   "id": "45f3de01",
   "metadata": {},
   "source": [
    "> 2000년도 이하와 2006년과 2009년을 제외한다면 액션장르가 가장 많은 출고량을 보이는 것을 확인할 수 있습니다."
   ]
  },
  {
   "cell_type": "markdown",
   "id": "41671145",
   "metadata": {},
   "source": [
    "### 4-1.1 연도별 north america 지역에 가장 많은 출고량을 보이는 장르"
   ]
  },
  {
   "cell_type": "code",
   "execution_count": 27,
   "id": "9b46b863",
   "metadata": {},
   "outputs": [],
   "source": [
    "year_list, genre_list, sales_list = [], [], []\n",
    "\n",
    "for year in range(1995, 2017):\n",
    "    year_na_genre=game[game.Year == year].groupby(['Year', 'Genre']).sum().sort_values(by='NA_Sales', ascending=False).reset_index()\n",
    "    year_list.append(year_na_genre.Year.iloc[0])\n",
    "    genre_list.append(year_na_genre.Genre.iloc[0])\n",
    "    sales_list.append(year_na_genre.NA_Sales.iloc[0])\n",
    "\n",
    "year_na_genre_dct = {'Year' : year_list,\n",
    "                  'Genre' : genre_list,\n",
    "                  'NA_Sales' : sales_list}\n",
    "year_na_best_genre = pd.DataFrame(year_na_genre_dct)"
   ]
  },
  {
   "cell_type": "code",
   "execution_count": 57,
   "id": "47ef5964",
   "metadata": {},
   "outputs": [
    {
     "data": {
      "image/png": "[encoded data removed]",
      "text/plain": [
       "<Figure size 1080x504 with 1 Axes>"
      ]
     },
     "metadata": {},
     "output_type": "display_data"
    }
   ],
   "source": [
    "plt.figure(figsize=(15,7))\n",
    "best_genre = sns.barplot(x='Year', y='NA_Sales', data=year_na_best_genre, hue='Genre', errwidth=0)\n",
    "best_genre.set_title('NA Best Game Genre', fontsize=20)\n",
    "best_genre.set_xlabel('Year', fontsize=15)\n",
    "best_genre.set_ylabel('NA_Sales(Million)', fontsize=15);"
   ]
  },
  {
   "cell_type": "markdown",
   "id": "080008e9",
   "metadata": {},
   "source": [
    "> NA 지역의 연도별 가장 많은 출고량을 보이는 장르를 살펴보면 전체 지역의 연도별 가장 많은 출고량을 보이는 장르와 거의 비슷한 것을 확인할 수 있습니다.     \n",
    "> 또한 NA 지역의 출고량이 전체 출고량의 절반 정도를 차지하는 것을 또한번 확인할 수 있습니다."
   ]
  },
  {
   "cell_type": "markdown",
   "id": "4934ec6e",
   "metadata": {},
   "source": [
    "## 4-2. 연도별 가장 많은 출고량을 보이는 game platform"
   ]
  },
  {
   "cell_type": "code",
   "execution_count": 29,
   "id": "3bf63e8f",
   "metadata": {},
   "outputs": [
    {
     "data": {
      "text/html": [
       "<div>\n",
       "<style scoped>\n",
       "    .dataframe tbody tr th:only-of-type {\n",
       "        vertical-align: middle;\n",
       "    }\n",
       "\n",
       "    .dataframe tbody tr th {\n",
       "        vertical-align: top;\n",
       "    }\n",
       "\n",
       "    .dataframe thead th {\n",
       "        text-align: right;\n",
       "    }\n",
       "</style>\n",
       "<table border=\"1\" class=\"dataframe\">\n",
       "  <thead>\n",
       "    <tr style=\"text-align: right;\">\n",
       "      <th></th>\n",
       "      <th>Year</th>\n",
       "      <th>Platform</th>\n",
       "      <th>Total_Sales</th>\n",
       "    </tr>\n",
       "  </thead>\n",
       "  <tbody>\n",
       "    <tr>\n",
       "      <th>0</th>\n",
       "      <td>1995</td>\n",
       "      <td>PS</td>\n",
       "      <td>35.96</td>\n",
       "    </tr>\n",
       "    <tr>\n",
       "      <th>1</th>\n",
       "      <td>1996</td>\n",
       "      <td>PS</td>\n",
       "      <td>94.28</td>\n",
       "    </tr>\n",
       "    <tr>\n",
       "      <th>2</th>\n",
       "      <td>1997</td>\n",
       "      <td>PS</td>\n",
       "      <td>136.17</td>\n",
       "    </tr>\n",
       "    <tr>\n",
       "      <th>3</th>\n",
       "      <td>1998</td>\n",
       "      <td>PS</td>\n",
       "      <td>169.49</td>\n",
       "    </tr>\n",
       "    <tr>\n",
       "      <th>4</th>\n",
       "      <td>1999</td>\n",
       "      <td>PS</td>\n",
       "      <td>142.57</td>\n",
       "    </tr>\n",
       "    <tr>\n",
       "      <th>5</th>\n",
       "      <td>2000</td>\n",
       "      <td>PS</td>\n",
       "      <td>96.35</td>\n",
       "    </tr>\n",
       "    <tr>\n",
       "      <th>6</th>\n",
       "      <td>2001</td>\n",
       "      <td>PS2</td>\n",
       "      <td>163.73</td>\n",
       "    </tr>\n",
       "    <tr>\n",
       "      <th>7</th>\n",
       "      <td>2002</td>\n",
       "      <td>PS2</td>\n",
       "      <td>205.38</td>\n",
       "    </tr>\n",
       "    <tr>\n",
       "      <th>8</th>\n",
       "      <td>2003</td>\n",
       "      <td>PS2</td>\n",
       "      <td>184.31</td>\n",
       "    </tr>\n",
       "    <tr>\n",
       "      <th>9</th>\n",
       "      <td>2004</td>\n",
       "      <td>PS2</td>\n",
       "      <td>210.47</td>\n",
       "    </tr>\n",
       "    <tr>\n",
       "      <th>10</th>\n",
       "      <td>2005</td>\n",
       "      <td>PS2</td>\n",
       "      <td>160.66</td>\n",
       "    </tr>\n",
       "    <tr>\n",
       "      <th>11</th>\n",
       "      <td>2006</td>\n",
       "      <td>Wii</td>\n",
       "      <td>137.85</td>\n",
       "    </tr>\n",
       "    <tr>\n",
       "      <th>12</th>\n",
       "      <td>2007</td>\n",
       "      <td>Wii</td>\n",
       "      <td>154.60</td>\n",
       "    </tr>\n",
       "    <tr>\n",
       "      <th>13</th>\n",
       "      <td>2008</td>\n",
       "      <td>Wii</td>\n",
       "      <td>173.98</td>\n",
       "    </tr>\n",
       "    <tr>\n",
       "      <th>14</th>\n",
       "      <td>2009</td>\n",
       "      <td>Wii</td>\n",
       "      <td>210.26</td>\n",
       "    </tr>\n",
       "    <tr>\n",
       "      <th>15</th>\n",
       "      <td>2010</td>\n",
       "      <td>X360</td>\n",
       "      <td>170.95</td>\n",
       "    </tr>\n",
       "    <tr>\n",
       "      <th>16</th>\n",
       "      <td>2011</td>\n",
       "      <td>PS3</td>\n",
       "      <td>159.37</td>\n",
       "    </tr>\n",
       "    <tr>\n",
       "      <th>17</th>\n",
       "      <td>2012</td>\n",
       "      <td>PS3</td>\n",
       "      <td>108.32</td>\n",
       "    </tr>\n",
       "    <tr>\n",
       "      <th>18</th>\n",
       "      <td>2013</td>\n",
       "      <td>PS3</td>\n",
       "      <td>117.42</td>\n",
       "    </tr>\n",
       "    <tr>\n",
       "      <th>19</th>\n",
       "      <td>2014</td>\n",
       "      <td>PS4</td>\n",
       "      <td>98.83</td>\n",
       "    </tr>\n",
       "    <tr>\n",
       "      <th>20</th>\n",
       "      <td>2015</td>\n",
       "      <td>PS4</td>\n",
       "      <td>112.86</td>\n",
       "    </tr>\n",
       "    <tr>\n",
       "      <th>21</th>\n",
       "      <td>2016</td>\n",
       "      <td>PS4</td>\n",
       "      <td>39.30</td>\n",
       "    </tr>\n",
       "  </tbody>\n",
       "</table>\n",
       "</div>"
      ],
      "text/plain": [
       "    Year Platform  Total_Sales\n",
       "0   1995       PS        35.96\n",
       "1   1996       PS        94.28\n",
       "2   1997       PS       136.17\n",
       "3   1998       PS       169.49\n",
       "4   1999       PS       142.57\n",
       "5   2000       PS        96.35\n",
       "6   2001      PS2       163.73\n",
       "7   2002      PS2       205.38\n",
       "8   2003      PS2       184.31\n",
       "9   2004      PS2       210.47\n",
       "10  2005      PS2       160.66\n",
       "11  2006      Wii       137.85\n",
       "12  2007      Wii       154.60\n",
       "13  2008      Wii       173.98\n",
       "14  2009      Wii       210.26\n",
       "15  2010     X360       170.95\n",
       "16  2011      PS3       159.37\n",
       "17  2012      PS3       108.32\n",
       "18  2013      PS3       117.42\n",
       "19  2014      PS4        98.83\n",
       "20  2015      PS4       112.86\n",
       "21  2016      PS4        39.30"
      ]
     },
     "execution_count": 29,
     "metadata": {},
     "output_type": "execute_result"
    }
   ],
   "source": [
    "year_list, platform_list, sales_list = [], [], []\n",
    "\n",
    "for year in range(1995, 2017):\n",
    "    year_platform=game[game.Year == year].groupby(['Year', 'Platform']).sum().sort_values(by='Total_Sales', ascending=False).reset_index()\n",
    "    year_list.append(year_platform.Year.iloc[0])\n",
    "    platform_list.append(year_platform.Platform.iloc[0])\n",
    "    sales_list.append(year_platform.Total_Sales.iloc[0])\n",
    "\n",
    "year_platform_dct = {'Year' : year_list,\n",
    "                  'Platform' : platform_list,\n",
    "                  'Total_Sales' : sales_list}\n",
    "year_best_platform = pd.DataFrame(year_platform_dct)\n",
    "year_best_platform"
   ]
  },
  {
   "cell_type": "code",
   "execution_count": 38,
   "id": "46231b67",
   "metadata": {
    "scrolled": false
   },
   "outputs": [
    {
     "data": {
      "image/png": "[encoded data removed]",
      "text/plain": [
       "<Figure size 1080x576 with 1 Axes>"
      ]
     },
     "metadata": {},
     "output_type": "display_data"
    }
   ],
   "source": [
    "plt.figure(figsize=(15,8))\n",
    "best_platform = sns.barplot(x='Year', y='Total_Sales', data=year_best_platform, hue='Platform', errwidth=0)\n",
    "best_platform.set_title('Best Game Platform', fontsize=20)\n",
    "best_platform.set_xlabel('Year', fontsize=15)\n",
    "best_platform.set_ylabel('Total_Sales(Million)', fontsize=15);"
   ]
  },
  {
   "cell_type": "code",
   "execution_count": null,
   "id": "fbb539b5",
   "metadata": {},
   "outputs": [],
   "source": []
  },
  {
   "cell_type": "markdown",
   "id": "73e59a38",
   "metadata": {},
   "source": [
    "## 4-3. 연도별 가장 많은 출고량을 보이는 publisher"
   ]
  },
  {
   "cell_type": "code",
   "execution_count": 31,
   "id": "73076920",
   "metadata": {},
   "outputs": [
    {
     "data": {
      "text/html": [
       "<div>\n",
       "<style scoped>\n",
       "    .dataframe tbody tr th:only-of-type {\n",
       "        vertical-align: middle;\n",
       "    }\n",
       "\n",
       "    .dataframe tbody tr th {\n",
       "        vertical-align: top;\n",
       "    }\n",
       "\n",
       "    .dataframe thead th {\n",
       "        text-align: right;\n",
       "    }\n",
       "</style>\n",
       "<table border=\"1\" class=\"dataframe\">\n",
       "  <thead>\n",
       "    <tr style=\"text-align: right;\">\n",
       "      <th></th>\n",
       "      <th>Year</th>\n",
       "      <th>Publisher</th>\n",
       "      <th>Total_Sales</th>\n",
       "    </tr>\n",
       "  </thead>\n",
       "  <tbody>\n",
       "    <tr>\n",
       "      <th>0</th>\n",
       "      <td>1995</td>\n",
       "      <td>Sony Computer Entertainment</td>\n",
       "      <td>18.49</td>\n",
       "    </tr>\n",
       "    <tr>\n",
       "      <th>1</th>\n",
       "      <td>1996</td>\n",
       "      <td>Nintendo</td>\n",
       "      <td>73.69</td>\n",
       "    </tr>\n",
       "    <tr>\n",
       "      <th>2</th>\n",
       "      <td>1997</td>\n",
       "      <td>Sony Computer Entertainment</td>\n",
       "      <td>43.92</td>\n",
       "    </tr>\n",
       "    <tr>\n",
       "      <th>3</th>\n",
       "      <td>1998</td>\n",
       "      <td>Nintendo</td>\n",
       "      <td>47.30</td>\n",
       "    </tr>\n",
       "    <tr>\n",
       "      <th>4</th>\n",
       "      <td>1999</td>\n",
       "      <td>Nintendo</td>\n",
       "      <td>65.31</td>\n",
       "    </tr>\n",
       "    <tr>\n",
       "      <th>5</th>\n",
       "      <td>2000</td>\n",
       "      <td>Nintendo</td>\n",
       "      <td>34.02</td>\n",
       "    </tr>\n",
       "    <tr>\n",
       "      <th>6</th>\n",
       "      <td>2001</td>\n",
       "      <td>Nintendo</td>\n",
       "      <td>45.41</td>\n",
       "    </tr>\n",
       "    <tr>\n",
       "      <th>7</th>\n",
       "      <td>2002</td>\n",
       "      <td>Electronic Arts</td>\n",
       "      <td>72.27</td>\n",
       "    </tr>\n",
       "    <tr>\n",
       "      <th>8</th>\n",
       "      <td>2003</td>\n",
       "      <td>Electronic Arts</td>\n",
       "      <td>69.78</td>\n",
       "    </tr>\n",
       "    <tr>\n",
       "      <th>9</th>\n",
       "      <td>2004</td>\n",
       "      <td>Electronic Arts</td>\n",
       "      <td>62.98</td>\n",
       "    </tr>\n",
       "    <tr>\n",
       "      <th>10</th>\n",
       "      <td>2005</td>\n",
       "      <td>Nintendo</td>\n",
       "      <td>127.37</td>\n",
       "    </tr>\n",
       "    <tr>\n",
       "      <th>11</th>\n",
       "      <td>2006</td>\n",
       "      <td>Nintendo</td>\n",
       "      <td>205.60</td>\n",
       "    </tr>\n",
       "    <tr>\n",
       "      <th>12</th>\n",
       "      <td>2007</td>\n",
       "      <td>Nintendo</td>\n",
       "      <td>104.16</td>\n",
       "    </tr>\n",
       "    <tr>\n",
       "      <th>13</th>\n",
       "      <td>2008</td>\n",
       "      <td>Nintendo</td>\n",
       "      <td>91.14</td>\n",
       "    </tr>\n",
       "    <tr>\n",
       "      <th>14</th>\n",
       "      <td>2009</td>\n",
       "      <td>Nintendo</td>\n",
       "      <td>128.86</td>\n",
       "    </tr>\n",
       "    <tr>\n",
       "      <th>15</th>\n",
       "      <td>2010</td>\n",
       "      <td>Electronic Arts</td>\n",
       "      <td>80.90</td>\n",
       "    </tr>\n",
       "    <tr>\n",
       "      <th>16</th>\n",
       "      <td>2011</td>\n",
       "      <td>Electronic Arts</td>\n",
       "      <td>72.21</td>\n",
       "    </tr>\n",
       "    <tr>\n",
       "      <th>17</th>\n",
       "      <td>2012</td>\n",
       "      <td>Nintendo</td>\n",
       "      <td>56.50</td>\n",
       "    </tr>\n",
       "    <tr>\n",
       "      <th>18</th>\n",
       "      <td>2013</td>\n",
       "      <td>Electronic Arts</td>\n",
       "      <td>52.94</td>\n",
       "    </tr>\n",
       "    <tr>\n",
       "      <th>19</th>\n",
       "      <td>2014</td>\n",
       "      <td>Nintendo</td>\n",
       "      <td>48.67</td>\n",
       "    </tr>\n",
       "    <tr>\n",
       "      <th>20</th>\n",
       "      <td>2015</td>\n",
       "      <td>Electronic Arts</td>\n",
       "      <td>45.41</td>\n",
       "    </tr>\n",
       "    <tr>\n",
       "      <th>21</th>\n",
       "      <td>2016</td>\n",
       "      <td>Electronic Arts</td>\n",
       "      <td>12.27</td>\n",
       "    </tr>\n",
       "  </tbody>\n",
       "</table>\n",
       "</div>"
      ],
      "text/plain": [
       "    Year                    Publisher  Total_Sales\n",
       "0   1995  Sony Computer Entertainment        18.49\n",
       "1   1996                     Nintendo        73.69\n",
       "2   1997  Sony Computer Entertainment        43.92\n",
       "3   1998                     Nintendo        47.30\n",
       "4   1999                     Nintendo        65.31\n",
       "5   2000                     Nintendo        34.02\n",
       "6   2001                     Nintendo        45.41\n",
       "7   2002              Electronic Arts        72.27\n",
       "8   2003              Electronic Arts        69.78\n",
       "9   2004              Electronic Arts        62.98\n",
       "10  2005                     Nintendo       127.37\n",
       "11  2006                     Nintendo       205.60\n",
       "12  2007                     Nintendo       104.16\n",
       "13  2008                     Nintendo        91.14\n",
       "14  2009                     Nintendo       128.86\n",
       "15  2010              Electronic Arts        80.90\n",
       "16  2011              Electronic Arts        72.21\n",
       "17  2012                     Nintendo        56.50\n",
       "18  2013              Electronic Arts        52.94\n",
       "19  2014                     Nintendo        48.67\n",
       "20  2015              Electronic Arts        45.41\n",
       "21  2016              Electronic Arts        12.27"
      ]
     },
     "execution_count": 31,
     "metadata": {},
     "output_type": "execute_result"
    }
   ],
   "source": [
    "year_list, publisher_list, sales_list = [], [], []\n",
    "\n",
    "for year in range(1995, 2017):\n",
    "    year_publisher=game[game.Year == year].groupby(['Year', 'Publisher']).sum().sort_values(by='Total_Sales', ascending=False).reset_index()\n",
    "    year_list.append(year_publisher.Year.iloc[0])\n",
    "    publisher_list.append(year_publisher.Publisher.iloc[0])\n",
    "    sales_list.append(year_publisher.Total_Sales.iloc[0])\n",
    "\n",
    "year_publisher_dct = {'Year' : year_list,\n",
    "                  'Publisher' : publisher_list,\n",
    "                  'Total_Sales' : sales_list}\n",
    "year_best_publisher = pd.DataFrame(year_publisher_dct)\n",
    "year_best_publisher"
   ]
  },
  {
   "cell_type": "code",
   "execution_count": 37,
   "id": "129383f4",
   "metadata": {},
   "outputs": [
    {
     "data": {
      "image/png": "[encoded data removed]",
      "text/plain": [
       "<Figure size 1080x576 with 1 Axes>"
      ]
     },
     "metadata": {},
     "output_type": "display_data"
    }
   ],
   "source": [
    "plt.figure(figsize=(15,8))\n",
    "best_publisher = sns.barplot(x='Year', y='Total_Sales', data=year_best_publisher, hue='Publisher', errwidth=0)\n",
    "best_publisher.set_title('Best Game Publisher', fontsize=20)\n",
    "best_publisher.set_xlabel('Year', fontsize=15)\n",
    "best_publisher.set_ylabel('Total_Sales(Million)', fontsize=15);"
   ]
  },
  {
   "cell_type": "markdown",
   "id": "bf05a104",
   "metadata": {},
   "source": [
    "### 4-3-1 JP 지역의 연도별 가장 많은 출고량을 보이는 publisher"
   ]
  },
  {
   "cell_type": "code",
   "execution_count": 49,
   "id": "d9a0f7a5",
   "metadata": {},
   "outputs": [],
   "source": [
    "jp_year_list, jp_publisher_list, jp_sales_list = [], [], []\n",
    "\n",
    "for year in range(1995, 2017):\n",
    "    jp_year_publisher=game[game.Year == year].groupby(['Year', 'Publisher']).sum().sort_values(by='JP_Sales', ascending=False).reset_index()\n",
    "    jp_year_list.append(jp_year_publisher.Year.iloc[0])\n",
    "    jp_publisher_list.append(jp_year_publisher.Publisher.iloc[0])\n",
    "    jp_sales_list.append(jp_year_publisher.JP_Sales.iloc[0])\n",
    "\n",
    "jp_year_publisher_dct = {'Year' : jp_year_list,\n",
    "                  'Publisher' : jp_publisher_list,\n",
    "                  'JP_Sales' : jp_sales_list}\n",
    "jp_year_best_publisher = pd.DataFrame(jp_year_publisher_dct)"
   ]
  },
  {
   "cell_type": "code",
   "execution_count": 75,
   "id": "70c9f6c1",
   "metadata": {},
   "outputs": [
    {
     "data": {
      "image/png": "[encoded data removed]",
      "text/plain": [
       "<Figure size 1080x576 with 1 Axes>"
      ]
     },
     "metadata": {},
     "output_type": "display_data"
    }
   ],
   "source": [
    "plt.figure(figsize=(15,8))\n",
    "jp_best_publisher = sns.barplot(x='Year', y='JP_Sales', data=jp_year_best_publisher, hue='Publisher', errwidth=0)\n",
    "jp_best_publisher.set_title('JP Best Game Publisher', fontsize=20)\n",
    "jp_best_publisher.set_xlabel('Year', fontsize=15)\n",
    "jp_best_publisher.set_ylabel('JP_Sales(Million)', fontsize=15);"
   ]
  },
  {
   "cell_type": "markdown",
   "id": "30e417be",
   "metadata": {},
   "source": [
    "### 4-3-1 NA 지역의 연도별 가장 많은 출고량을 보이는 publishe"
   ]
  },
  {
   "cell_type": "code",
   "execution_count": 55,
   "id": "0d3df6f9",
   "metadata": {},
   "outputs": [],
   "source": [
    "na_year_list, na_publisher_list, na_sales_list = [], [], []\n",
    "\n",
    "for year in range(1995, 2017):\n",
    "    na_year_publisher=game[game.Year == year].groupby(['Year', 'Publisher']).sum().sort_values(by='NA_Sales', ascending=False).reset_index()\n",
    "    na_year_list.append(na_year_publisher.Year.iloc[0])\n",
    "    na_publisher_list.append(na_year_publisher.Publisher.iloc[0])\n",
    "    na_sales_list.append(na_year_publisher.NA_Sales.iloc[0])\n",
    "\n",
    "na_year_publisher_dct = {'Year' : na_year_list,\n",
    "                  'Publisher' : na_publisher_list,\n",
    "                  'NA_Sales' : na_sales_list}\n",
    "na_year_best_publisher = pd.DataFrame(na_year_publisher_dct)"
   ]
  },
  {
   "cell_type": "raw",
   "id": "9c2a6b40",
   "metadata": {},
   "source": [
    "plt.figure(figsize=(15,8))\n",
    "na_best_publisher = sns.barplot(x='Year', y='NA_Sales', data=na_year_best_publisher, hue='Publisher', errwidth=0)\n",
    "na_best_publisher.set_title('NA Best Game Publisher', fontsize=20)\n",
    "na_best_publisher.set_xlabel('Year', fontsize=15)\n",
    "na_best_publisher.set_ylabel('NA_Sales(Million)', fontsize=15);"
   ]
  },
  {
   "cell_type": "markdown",
   "id": "561a8be9",
   "metadata": {},
   "source": [
    "# 5. 출고량이 높은 게임에 대한 분석 및 시각화 프로세스"
   ]
  },
  {
   "cell_type": "markdown",
   "id": "fc923d71",
   "metadata": {},
   "source": [
    "> - 출고량이 높은 게임은 어디 platform에서 만들어졌냐(인기있는 platform이거나 유명한 platform이거나) \n",
    "> - 어느 시기에 만들어졌냐(컴퓨터 보급 시가나 대중화 시기, 어떤 사건 등) \n",
    "> - 어느 나라에서 만들어졌냐(인구수에 따른 출고량을 고려할 수 있기 때문에)"
   ]
  },
  {
   "cell_type": "markdown",
   "id": "293b1674",
   "metadata": {},
   "source": [
    "> 가장 많은 출고량을 보유한 platform 'wii'은 2006년 출시가 되자마자 엑스박스 360, PS3와 경쟁했으며 경쟁 기종보다 늦게 출시되었음에도 굉장한 판매량을 기록하며 당대 콘솔 시장의 승자로 자리매김했다. -나무위키\n",
    "\n",
    "> 모션 센서가 적용된 '체감혐'컨트롤러와 독창적인 액세서리를 바탕으로 마케팅 포인트를 잡았고 체감형 컨트롤러와 더불어 매년 꾸준한 출고량을 보인 스포츠 장르를 선택한 것도 성공의 한 몫을 한것으로 보인다."
   ]
  },
  {
   "cell_type": "code",
   "execution_count": 64,
   "id": "aebf4f13",
   "metadata": {},
   "outputs": [
    {
     "data": {
      "text/html": [
       "<div>\n",
       "<style scoped>\n",
       "    .dataframe tbody tr th:only-of-type {\n",
       "        vertical-align: middle;\n",
       "    }\n",
       "\n",
       "    .dataframe tbody tr th {\n",
       "        vertical-align: top;\n",
       "    }\n",
       "\n",
       "    .dataframe thead th {\n",
       "        text-align: right;\n",
       "    }\n",
       "</style>\n",
       "<table border=\"1\" class=\"dataframe\">\n",
       "  <thead>\n",
       "    <tr style=\"text-align: right;\">\n",
       "      <th></th>\n",
       "      <th>Name</th>\n",
       "      <th>Platform</th>\n",
       "      <th>Year</th>\n",
       "      <th>Genre</th>\n",
       "      <th>Publisher</th>\n",
       "      <th>NA_Sales</th>\n",
       "      <th>EU_Sales</th>\n",
       "      <th>JP_Sales</th>\n",
       "      <th>Other_Sales</th>\n",
       "      <th>Total_Sales</th>\n",
       "    </tr>\n",
       "  </thead>\n",
       "  <tbody>\n",
       "    <tr>\n",
       "      <th>2773</th>\n",
       "      <td>Wii Sports</td>\n",
       "      <td>Wii</td>\n",
       "      <td>2006</td>\n",
       "      <td>Sports</td>\n",
       "      <td>Nintendo</td>\n",
       "      <td>41.49</td>\n",
       "      <td>29.02</td>\n",
       "      <td>3.77</td>\n",
       "      <td>8.46</td>\n",
       "      <td>82.74</td>\n",
       "    </tr>\n",
       "    <tr>\n",
       "      <th>11968</th>\n",
       "      <td>Mario Kart Wii</td>\n",
       "      <td>Wii</td>\n",
       "      <td>2008</td>\n",
       "      <td>Racing</td>\n",
       "      <td>Nintendo</td>\n",
       "      <td>15.85</td>\n",
       "      <td>12.88</td>\n",
       "      <td>3.79</td>\n",
       "      <td>3.31</td>\n",
       "      <td>35.83</td>\n",
       "    </tr>\n",
       "    <tr>\n",
       "      <th>3192</th>\n",
       "      <td>Wii Sports Resort</td>\n",
       "      <td>Wii</td>\n",
       "      <td>2009</td>\n",
       "      <td>Sports</td>\n",
       "      <td>Nintendo</td>\n",
       "      <td>15.75</td>\n",
       "      <td>11.01</td>\n",
       "      <td>3.28</td>\n",
       "      <td>2.96</td>\n",
       "      <td>33.00</td>\n",
       "    </tr>\n",
       "    <tr>\n",
       "      <th>7439</th>\n",
       "      <td>Pokemon Red/Pokemon Blue</td>\n",
       "      <td>GB</td>\n",
       "      <td>1996</td>\n",
       "      <td>Role-Playing</td>\n",
       "      <td>Nintendo</td>\n",
       "      <td>11.27</td>\n",
       "      <td>8.89</td>\n",
       "      <td>10.22</td>\n",
       "      <td>1.00</td>\n",
       "      <td>31.38</td>\n",
       "    </tr>\n",
       "    <tr>\n",
       "      <th>6587</th>\n",
       "      <td>New Super Mario Bros.</td>\n",
       "      <td>DS</td>\n",
       "      <td>2006</td>\n",
       "      <td>Platform</td>\n",
       "      <td>Nintendo</td>\n",
       "      <td>11.38</td>\n",
       "      <td>9.23</td>\n",
       "      <td>6.50</td>\n",
       "      <td>2.90</td>\n",
       "      <td>30.01</td>\n",
       "    </tr>\n",
       "    <tr>\n",
       "      <th>2874</th>\n",
       "      <td>Wii Play</td>\n",
       "      <td>Wii</td>\n",
       "      <td>2006</td>\n",
       "      <td>Misc</td>\n",
       "      <td>Nintendo</td>\n",
       "      <td>14.03</td>\n",
       "      <td>9.20</td>\n",
       "      <td>2.93</td>\n",
       "      <td>2.85</td>\n",
       "      <td>29.01</td>\n",
       "    </tr>\n",
       "    <tr>\n",
       "      <th>15723</th>\n",
       "      <td>New Super Mario Bros. Wii</td>\n",
       "      <td>Wii</td>\n",
       "      <td>2009</td>\n",
       "      <td>Platform</td>\n",
       "      <td>Nintendo</td>\n",
       "      <td>14.59</td>\n",
       "      <td>7.06</td>\n",
       "      <td>4.70</td>\n",
       "      <td>2.26</td>\n",
       "      <td>28.61</td>\n",
       "    </tr>\n",
       "    <tr>\n",
       "      <th>10597</th>\n",
       "      <td>Nintendogs</td>\n",
       "      <td>DS</td>\n",
       "      <td>2005</td>\n",
       "      <td>Simulation</td>\n",
       "      <td>Nintendo</td>\n",
       "      <td>9.07</td>\n",
       "      <td>11.00</td>\n",
       "      <td>1.93</td>\n",
       "      <td>2.75</td>\n",
       "      <td>24.75</td>\n",
       "    </tr>\n",
       "    <tr>\n",
       "      <th>10135</th>\n",
       "      <td>Mario Kart DS</td>\n",
       "      <td>DS</td>\n",
       "      <td>2005</td>\n",
       "      <td>Racing</td>\n",
       "      <td>Nintendo</td>\n",
       "      <td>9.81</td>\n",
       "      <td>7.57</td>\n",
       "      <td>4.13</td>\n",
       "      <td>1.92</td>\n",
       "      <td>23.43</td>\n",
       "    </tr>\n",
       "    <tr>\n",
       "      <th>8969</th>\n",
       "      <td>Pokemon Gold/Pokemon Silver</td>\n",
       "      <td>GB</td>\n",
       "      <td>1999</td>\n",
       "      <td>Role-Playing</td>\n",
       "      <td>Nintendo</td>\n",
       "      <td>9.00</td>\n",
       "      <td>6.18</td>\n",
       "      <td>7.20</td>\n",
       "      <td>0.71</td>\n",
       "      <td>23.09</td>\n",
       "    </tr>\n",
       "  </tbody>\n",
       "</table>\n",
       "</div>"
      ],
      "text/plain": [
       "                              Name Platform  Year         Genre Publisher  \\\n",
       "2773                    Wii Sports      Wii  2006        Sports  Nintendo   \n",
       "11968               Mario Kart Wii      Wii  2008        Racing  Nintendo   \n",
       "3192             Wii Sports Resort      Wii  2009        Sports  Nintendo   \n",
       "7439      Pokemon Red/Pokemon Blue       GB  1996  Role-Playing  Nintendo   \n",
       "6587         New Super Mario Bros.       DS  2006      Platform  Nintendo   \n",
       "2874                      Wii Play      Wii  2006          Misc  Nintendo   \n",
       "15723    New Super Mario Bros. Wii      Wii  2009      Platform  Nintendo   \n",
       "10597                   Nintendogs       DS  2005    Simulation  Nintendo   \n",
       "10135                Mario Kart DS       DS  2005        Racing  Nintendo   \n",
       "8969   Pokemon Gold/Pokemon Silver       GB  1999  Role-Playing  Nintendo   \n",
       "\n",
       "       NA_Sales  EU_Sales  JP_Sales  Other_Sales  Total_Sales  \n",
       "2773      41.49     29.02      3.77         8.46        82.74  \n",
       "11968     15.85     12.88      3.79         3.31        35.83  \n",
       "3192      15.75     11.01      3.28         2.96        33.00  \n",
       "7439      11.27      8.89     10.22         1.00        31.38  \n",
       "6587      11.38      9.23      6.50         2.90        30.01  \n",
       "2874      14.03      9.20      2.93         2.85        29.01  \n",
       "15723     14.59      7.06      4.70         2.26        28.61  \n",
       "10597      9.07     11.00      1.93         2.75        24.75  \n",
       "10135      9.81      7.57      4.13         1.92        23.43  \n",
       "8969       9.00      6.18      7.20         0.71        23.09  "
      ]
     },
     "execution_count": 64,
     "metadata": {},
     "output_type": "execute_result"
    }
   ],
   "source": [
    "game.sort_values('Total_Sales', ascending=False).head(10)"
   ]
  },
  {
   "cell_type": "markdown",
   "id": "ec54f66b",
   "metadata": {},
   "source": [
    "## 5-1. 1995~2016년 역대 최고 출고량 게임"
   ]
  },
  {
   "cell_type": "code",
   "execution_count": 68,
   "id": "58d8f96e",
   "metadata": {},
   "outputs": [
    {
     "data": {
      "image/png": "[encoded data removed]",
      "text/plain": [
       "<Figure size 1944x1080 with 1 Axes>"
      ]
     },
     "metadata": {},
     "output_type": "display_data"
    }
   ],
   "source": [
    "plt.figure(figsize=(27,15))\n",
    "total_game = sns.barplot(x='Name', y='Total_Sales', data=game.sort_values('Total_Sales', ascending=False).head(10), errwidth=0)\n",
    "total_game.set_title('Total_Sales by Game', fontsize=20)\n",
    "total_game.set_xlabel('Game', fontsize=15)\n",
    "total_game.set_ylabel('Total_Sales(Million)', fontsize=15);"
   ]
  },
  {
   "cell_type": "markdown",
   "id": "a6e33a0c",
   "metadata": {},
   "source": [
    "## 5-2. 1995~2016년 역대 최고 출고량 플랫폼"
   ]
  },
  {
   "cell_type": "code",
   "execution_count": 73,
   "id": "ff15d0d9",
   "metadata": {},
   "outputs": [
    {
     "data": {
      "image/png": "[encoded data removed]",
      "text/plain": [
       "<Figure size 1944x1080 with 1 Axes>"
      ]
     },
     "metadata": {},
     "output_type": "display_data"
    }
   ],
   "source": [
    "total_sales_by_platform = game.groupby(['Platform']).sum().sort_values(by='Total_Sales', ascending=False).reset_index()\n",
    "\n",
    "plt.figure(figsize=(27,15))\n",
    "total_platform = sns.barplot(x='Platform', y='Total_Sales', data=total_sales_by_platform.head(10), errwidth=0)\n",
    "total_platform.set_title('Total_Sales by Platform', fontsize=20)\n",
    "total_platform.set_xlabel('Platform', fontsize=15)\n",
    "total_platform.set_ylabel('Total_Sales(Million)', fontsize=15);"
   ]
  },
  {
   "cell_type": "markdown",
   "id": "7a056be2",
   "metadata": {},
   "source": [
    "#### 결론\n",
    "> 장르는 액션 장르 혹은 차선책으로 스포츠 장르를 선택하며 플랫폼은 플레이스테이션 플랫폼을 선택해 게임을 설계합니다."
   ]
  },
  {
   "cell_type": "code",
   "execution_count": null,
   "id": "a8986eeb",
   "metadata": {},
   "outputs": [],
   "source": []
  },
  {
   "cell_type": "code",
   "execution_count": null,
   "id": "77068e92",
   "metadata": {},
   "outputs": [],
   "source": []
  },
  {
   "cell_type": "code",
   "execution_count": null,
   "id": "78f2b1db",
   "metadata": {},
   "outputs": [],
   "source": []
  },
  {
   "cell_type": "code",
   "execution_count": null,
   "id": "365b9572",
   "metadata": {},
   "outputs": [],
   "source": []
  },
  {
   "cell_type": "code",
   "execution_count": null,
   "id": "dfd3386b",
   "metadata": {},
   "outputs": [],
   "source": []
  },
  {
   "cell_type": "code",
   "execution_count": null,
   "id": "d0fe16ac",
   "metadata": {},
   "outputs": [],
   "source": []
  },
  {
   "cell_type": "code",
   "execution_count": null,
   "id": "6cc2e273",
   "metadata": {},
   "outputs": [],
   "source": []
  },
  {
   "cell_type": "code",
   "execution_count": null,
   "id": "79fc257d",
   "metadata": {},
   "outputs": [],
   "source": []
  },
  {
   "cell_type": "code",
   "execution_count": null,
   "id": "5d76d18f",
   "metadata": {},
   "outputs": [],
   "source": []
  },
  {
   "cell_type": "code",
   "execution_count": null,
   "id": "ff6fc2d7",
   "metadata": {},
   "outputs": [],
   "source": []
  }
 ],
 "metadata": {
  "kernelspec": {
   "display_name": "Python 3 (ipykernel)",
   "language": "python",
   "name": "python3"
  },
  "language_info": {
   "codemirror_mode": {
    "name": "ipython",
    "version": 3
   },
   "file_extension": ".py",
   "mimetype": "text/x-python",
   "name": "python",
   "nbconvert_exporter": "python",
   "pygments_lexer": "ipython3",
   "version": "3.9.12"
  }
 },
 "nbformat": 4,
 "nbformat_minor": 5
}
